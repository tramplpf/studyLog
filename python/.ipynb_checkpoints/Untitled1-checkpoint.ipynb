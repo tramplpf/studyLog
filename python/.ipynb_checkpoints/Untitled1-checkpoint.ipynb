{
 "cells": [
  {
   "cell_type": "markdown",
   "id": "c5abcdca",
   "metadata": {},
   "source": [
    "<font size=5> ** 作业 ** 在Jypyter notebook中重现本页内容</font>"
   ]
  },
  {
   "cell_type": "markdown",
   "id": "2a3cbd10",
   "metadata": {},
   "source": [
    "需要弄明白的事情：\n",
    "1. latex 语法\n",
    "\n"
   ]
  },
  {
   "cell_type": "markdown",
   "id": "44844c8f",
   "metadata": {},
   "source": [
    "## 插入一行代码\n",
    "\n",
    "## 插入一个公式\n",
    "\n",
    "\n",
    "## 插入一张图片\n",
    "<img style=\"float:center;\" src=\"/aaa.png\" width=\"40%\"/>\n",
    "\n",
    "\n",
    "## 插入一个表格（扩展知识）\n",
    "｜左对齐（title）｜右对齐（title）｜ 居中对齐（title）  \n",
    "｜aaa｜bbb｜ccc\n",
    "\n",
    "\n",
    "\n",
    "print(python \\n code')"
   ]
  },
  {
   "cell_type": "code",
   "execution_count": 5,
   "id": "f20418f9",
   "metadata": {},
   "outputs": [
    {
     "name": "stdout",
     "output_type": "stream",
     "text": [
      "python \n",
      "code\n"
     ]
    }
   ],
   "source": [
    "print(u'python \\ncode')"
   ]
  },
  {
   "cell_type": "code",
   "execution_count": null,
   "id": "2da302d1",
   "metadata": {},
   "outputs": [],
   "source": []
  }
 ],
 "metadata": {
  "kernelspec": {
   "display_name": "Python 3",
   "language": "python",
   "name": "python3"
  },
  "language_info": {
   "codemirror_mode": {
    "name": "ipython",
    "version": 3
   },
   "file_extension": ".py",
   "mimetype": "text/x-python",
   "name": "python",
   "nbconvert_exporter": "python",
   "pygments_lexer": "ipython3",
   "version": "3.8.8"
  }
 },
 "nbformat": 4,
 "nbformat_minor": 5
}
