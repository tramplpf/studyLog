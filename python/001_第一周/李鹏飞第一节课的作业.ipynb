{
 "cells": [
  {
   "cell_type": "markdown",
   "id": "03b2eb92",
   "metadata": {},
   "source": [
    "# 1 设置一个目录和等级标题\n",
    "\n",
    "[TOC]\n",
    "\n",
    "## 1.1 第一章\n",
    "### 1.1.1 AAA\n",
    "### 1.1.2 BBB\n",
    "## 1.2 第二章\n",
    "### 1.2.1 CCC\n",
    "### 1.2.2 DDD\n"
   ]
  },
  {
   "cell_type": "markdown",
   "id": "fe87b624",
   "metadata": {},
   "source": [
    "# 2. 运行一行代码\n"
   ]
  },
  {
   "cell_type": "code",
   "execution_count": 1,
   "id": "978d9398",
   "metadata": {},
   "outputs": [
    {
     "data": {
      "text/plain": [
       "3"
      ]
     },
     "execution_count": 1,
     "metadata": {},
     "output_type": "execute_result"
    }
   ],
   "source": [
    "1 + 2 "
   ]
  },
  {
   "cell_type": "code",
   "execution_count": 2,
   "id": "9bc12d70",
   "metadata": {},
   "outputs": [
    {
     "name": "stdout",
     "output_type": "stream",
     "text": [
      "hello python!\n"
     ]
    }
   ],
   "source": [
    "print('hello python!')"
   ]
  },
  {
   "cell_type": "markdown",
   "id": "ac395257",
   "metadata": {},
   "source": [
    "# 3. 插入一个公式"
   ]
  },
  {
   "cell_type": "markdown",
   "id": "701229a2",
   "metadata": {},
   "source": [
    "$$y = ax^2+b+\\epsilon$$"
   ]
  },
  {
   "cell_type": "markdown",
   "id": "836250a1",
   "metadata": {},
   "source": [
    "# 4.插入一张图"
   ]
  },
  {
   "cell_type": "markdown",
   "id": "5041fd3b",
   "metadata": {},
   "source": [
    "![利用python进行数据分析](./a.jpeg)"
   ]
  },
  {
   "cell_type": "markdown",
   "id": "ba519f04",
   "metadata": {},
   "source": [
    "# 5. 插入一个表格"
   ]
  },
  {
   "cell_type": "markdown",
   "id": "59ebd6c1",
   "metadata": {},
   "source": [
    "| 左对齐(title) | 右对齐(title) | 居中对齐(title) | \n",
    "| :----- | -----: | :----: |\n",
    "|aaa|bbb|cccccccccc| \n",
    "|dddd|eeeeeeeeeeee|ffff| "
   ]
  }
 ],
 "metadata": {
  "kernelspec": {
   "display_name": "Python 3",
   "language": "python",
   "name": "python3"
  },
  "language_info": {
   "codemirror_mode": {
    "name": "ipython",
    "version": 3
   },
   "file_extension": ".py",
   "mimetype": "text/x-python",
   "name": "python",
   "nbconvert_exporter": "python",
   "pygments_lexer": "ipython3",
   "version": "3.8.8"
  }
 },
 "nbformat": 4,
 "nbformat_minor": 5
}
