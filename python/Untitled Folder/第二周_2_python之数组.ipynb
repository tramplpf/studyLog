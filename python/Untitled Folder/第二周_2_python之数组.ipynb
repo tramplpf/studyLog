{
 "cells": [
  {
   "cell_type": "markdown",
   "id": "d9467c98",
   "metadata": {},
   "source": [
    "## todo\n",
    "* Anaconda Powershell Prompt 如何打开 ？\n",
    "* 总感觉有的课程缺失，不知道 dtype 什么意思？"
   ]
  },
  {
   "cell_type": "markdown",
   "id": "8fb2fad2",
   "metadata": {},
   "source": [
    "# 4.1 pip 基础\n",
    "\n",
    "pip与扩展程序库\n",
    "1. 什么是pip\n",
    "* pip 是python扩展程序库的管理工具\n",
    "* Python扩展程序为工程实践提供了大量扩展功能函数\n",
    "* pip通常是自带的\n",
    "* pip的命令建议在cmd命令卡框下执行"
   ]
  },
  {
   "cell_type": "markdown",
   "id": "223c2756",
   "metadata": {},
   "source": [
    "## 检查pip 是否安装，以及对应的版本"
   ]
  },
  {
   "cell_type": "code",
   "execution_count": 6,
   "id": "ca7f3840",
   "metadata": {},
   "outputs": [
    {
     "name": "stdout",
     "output_type": "stream",
     "text": [
      "pip 21.0.1 from /opt/anaconda3/lib/python3.8/site-packages/pip (python 3.8)\n",
      "Note: you may need to restart the kernel to use updated packages.\n"
     ]
    }
   ],
   "source": [
    "pip --version"
   ]
  },
  {
   "cell_type": "markdown",
   "id": "11307188",
   "metadata": {},
   "source": [
    "## 安装扩展库\n",
    "* pip install fuzzywuzzy （安装指定软件的最新版本）\n",
    "* pip install matplotlib==3.4.1 （安装指定版本号的软件）\n",
    "* pip install \"matplotlib>=3.0.1\" (安装指定区域版本号)\n",
    "\n",
    "## 升级扩展库\n",
    "* pip install --upgrade matplotlib \n",
    "\n",
    "## 卸载扩展库\n",
    "* pip uninstall matplotlib\n",
    "\n",
    "## 列出已经安装的扩展库\n",
    "* pip list \n",
    "\n",
    "## 列出需要升级的扩展库\n",
    "* pip list -o \n"
   ]
  },
  {
   "cell_type": "code",
   "execution_count": null,
   "id": "857aef17",
   "metadata": {},
   "outputs": [],
   "source": []
  },
  {
   "cell_type": "markdown",
   "id": "3549623c",
   "metadata": {},
   "source": [
    "# 4.2 数组基础\n",
    "\n",
    "Numpy Numberical Python N纬数组与矩阵运算\n"
   ]
  },
  {
   "cell_type": "code",
   "execution_count": 14,
   "id": "78416405",
   "metadata": {},
   "outputs": [],
   "source": [
    "# 将numpy导入并且重命名，可以用来检测Numpy 是否安装\n",
    "import numpy as np"
   ]
  },
  {
   "cell_type": "markdown",
   "id": "9a8f2314",
   "metadata": {},
   "source": [
    "安装与卸载 numpy \n",
    "* pip install numpy\n",
    "* pip uninstall unmpy "
   ]
  },
  {
   "cell_type": "code",
   "execution_count": 2,
   "id": "efdd8ea1",
   "metadata": {},
   "outputs": [
    {
     "data": {
      "text/plain": [
       "numpy.ndarray"
      ]
     },
     "execution_count": 2,
     "metadata": {},
     "output_type": "execute_result"
    }
   ],
   "source": [
    "import numpy as np\n",
    "\n",
    "x = np.array([1,2,3])\n",
    "x   \n",
    "# x. 输出 array([1, 2, 3]) \n",
    "type(x)\n"
   ]
  },
  {
   "cell_type": "code",
   "execution_count": 28,
   "id": "47ae1b3e",
   "metadata": {},
   "outputs": [
    {
     "data": {
      "text/plain": [
       "1"
      ]
     },
     "execution_count": 28,
     "metadata": {},
     "output_type": "execute_result"
    }
   ],
   "source": [
    "# 获取数组中指定索引下的值\n",
    "x[0]"
   ]
  },
  {
   "cell_type": "code",
   "execution_count": 34,
   "id": "8a155b55",
   "metadata": {},
   "outputs": [
    {
     "data": {
      "text/plain": [
       "array([[1, 2],\n",
       "       [2, 3]])"
      ]
     },
     "execution_count": 34,
     "metadata": {},
     "output_type": "execute_result"
    }
   ],
   "source": [
    "import numpy as np\n",
    "# 这里定义一个二维数组，但是却报错了，不知道为什么，报错信息 \n",
    "# TypeError: Field elements must be 2- or 3-tuples, got '2'\n",
    "# 错误的写法 b = np.array([1,2],[2,3])\n",
    "# 正确的写法 \n",
    "c = np.array([[1,2],[2,3]])\n",
    "c"
   ]
  },
  {
   "cell_type": "code",
   "execution_count": 6,
   "id": "bd39a43a",
   "metadata": {},
   "outputs": [
    {
     "data": {
      "text/plain": [
       "array([[1, 2]])"
      ]
     },
     "execution_count": 6,
     "metadata": {},
     "output_type": "execute_result"
    }
   ],
   "source": [
    "import numpy as np\n",
    "# 飞： 这里定义的应该是一个二维数组\n",
    "d = np.array([[1,2]])\n",
    "d"
   ]
  },
  {
   "cell_type": "code",
   "execution_count": 35,
   "id": "1a180e48",
   "metadata": {},
   "outputs": [
    {
     "data": {
      "text/plain": [
       "array([1, 2])"
      ]
     },
     "execution_count": 35,
     "metadata": {},
     "output_type": "execute_result"
    }
   ],
   "source": [
    "# 获取二维数组的取值\n",
    "c[0]"
   ]
  },
  {
   "cell_type": "code",
   "execution_count": 36,
   "id": "c3a0a0a5",
   "metadata": {},
   "outputs": [
    {
     "data": {
      "text/plain": [
       "array([2, 3])"
      ]
     },
     "execution_count": 36,
     "metadata": {},
     "output_type": "execute_result"
    }
   ],
   "source": [
    "c[1]"
   ]
  },
  {
   "cell_type": "code",
   "execution_count": 41,
   "id": "3b1e7d14",
   "metadata": {},
   "outputs": [
    {
     "ename": "IndexError",
     "evalue": "index 5 is out of bounds for axis 0 with size 2",
     "output_type": "error",
     "traceback": [
      "\u001b[0;31m---------------------------------------------------------------------------\u001b[0m",
      "\u001b[0;31mIndexError\u001b[0m                                Traceback (most recent call last)",
      "\u001b[0;32m<ipython-input-41-1343eda10c3f>\u001b[0m in \u001b[0;36m<module>\u001b[0;34m\u001b[0m\n\u001b[1;32m      1\u001b[0m \u001b[0;31m# 当获取数组中不存的值时，会报错，\u001b[0m\u001b[0;34m\u001b[0m\u001b[0;34m\u001b[0m\u001b[0;34m\u001b[0m\u001b[0m\n\u001b[1;32m      2\u001b[0m \u001b[0;31m# IndexError: index 5 is out of bounds for axis 0 with size 2\u001b[0m\u001b[0;34m\u001b[0m\u001b[0;34m\u001b[0m\u001b[0;34m\u001b[0m\u001b[0m\n\u001b[0;32m----> 3\u001b[0;31m \u001b[0mc\u001b[0m\u001b[0;34m[\u001b[0m\u001b[0;36m5\u001b[0m\u001b[0;34m]\u001b[0m\u001b[0;34m\u001b[0m\u001b[0;34m\u001b[0m\u001b[0m\n\u001b[0m",
      "\u001b[0;31mIndexError\u001b[0m: index 5 is out of bounds for axis 0 with size 2"
     ]
    }
   ],
   "source": [
    "# 当获取数组中不存的值时，会报错， \n",
    "# IndexError: index 5 is out of bounds for axis 0 with size 2\n",
    "c[5]"
   ]
  },
  {
   "cell_type": "code",
   "execution_count": 42,
   "id": "b417f8f0",
   "metadata": {},
   "outputs": [
    {
     "data": {
      "text/plain": [
       "array([[[1, 2],\n",
       "        [3, 4]],\n",
       "\n",
       "       [[5, 6],\n",
       "        [7, 8]]])"
      ]
     },
     "execution_count": 42,
     "metadata": {},
     "output_type": "execute_result"
    }
   ],
   "source": [
    "# 定义一个三维数组\n",
    "import numpy as np\n",
    "d = np.array([[[1,2],[3,4]],[[5,6],[7,8]]])\n",
    "d"
   ]
  },
  {
   "cell_type": "code",
   "execution_count": 43,
   "id": "d2e73dbd",
   "metadata": {},
   "outputs": [
    {
     "data": {
      "text/plain": [
       "array([[1, 2],\n",
       "       [3, 4]])"
      ]
     },
     "execution_count": 43,
     "metadata": {},
     "output_type": "execute_result"
    }
   ],
   "source": [
    "d[0]"
   ]
  },
  {
   "cell_type": "code",
   "execution_count": 44,
   "id": "ed2d329e",
   "metadata": {},
   "outputs": [
    {
     "data": {
      "text/plain": [
       "array([1, 2])"
      ]
     },
     "execution_count": 44,
     "metadata": {},
     "output_type": "execute_result"
    }
   ],
   "source": [
    "d[0][0]"
   ]
  },
  {
   "cell_type": "code",
   "execution_count": 45,
   "id": "7c0a36b0",
   "metadata": {},
   "outputs": [
    {
     "data": {
      "text/plain": [
       "1"
      ]
     },
     "execution_count": 45,
     "metadata": {},
     "output_type": "execute_result"
    }
   ],
   "source": [
    "d[0][0][0]"
   ]
  },
  {
   "cell_type": "code",
   "execution_count": 7,
   "id": "31b95dd1",
   "metadata": {},
   "outputs": [
    {
     "data": {
      "text/plain": [
       "array([[1, 2]])"
      ]
     },
     "execution_count": 7,
     "metadata": {},
     "output_type": "execute_result"
    }
   ],
   "source": [
    "# 将一维数组转换为二维数组 \n",
    "import numpy as np\n",
    "e = np.array([1,2])\n",
    "type(e)  # numpy.ndarray\n",
    "f = np.array(e,ndmin=2)\n",
    "f\n",
    "#或者 m = np.array([2,1], ndmin=2)\n",
    "#type(f)   # numpy.ndarray\n",
    "\n",
    "# 这里一维数组和二维数组的类型是相同的，都是 numpy.ndarray"
   ]
  },
  {
   "cell_type": "code",
   "execution_count": null,
   "id": "392d9876",
   "metadata": {},
   "outputs": [],
   "source": []
  },
  {
   "cell_type": "code",
   "execution_count": null,
   "id": "6a0baff2",
   "metadata": {},
   "outputs": [],
   "source": []
  },
  {
   "cell_type": "markdown",
   "id": "a4a18b94",
   "metadata": {},
   "source": [
    "# 4.3 数组创建与转换"
   ]
  },
  {
   "cell_type": "code",
   "execution_count": 65,
   "id": "dc8581fa",
   "metadata": {
    "scrolled": true
   },
   "outputs": [
    {
     "data": {
      "text/plain": [
       "array([[[1, 2],\n",
       "        [3, 4]],\n",
       "\n",
       "       [[5, 6],\n",
       "        [7, 8]]])"
      ]
     },
     "execution_count": 65,
     "metadata": {},
     "output_type": "execute_result"
    }
   ],
   "source": [
    "# 手动创建一个三维数组 \n",
    "a = np.array([[[1,2],[3,4]],[[5,6],[7,8]]])\n",
    "a"
   ]
  },
  {
   "cell_type": "code",
   "execution_count": 68,
   "id": "89de358c",
   "metadata": {},
   "outputs": [
    {
     "data": {
      "text/plain": [
       "3"
      ]
     },
     "execution_count": 68,
     "metadata": {},
     "output_type": "execute_result"
    }
   ],
   "source": [
    "# 查看数组的维度， 确定数组是几维数组  Dimension（维度）\n",
    "a.ndim"
   ]
  },
  {
   "cell_type": "code",
   "execution_count": 17,
   "id": "f5c1a68a",
   "metadata": {},
   "outputs": [
    {
     "data": {
      "text/plain": [
       "(2, 3, 2)"
      ]
     },
     "execution_count": 17,
     "metadata": {},
     "output_type": "execute_result"
    }
   ],
   "source": [
    "import numpy as np \n",
    "a = np.array([[[1,2],[3,4],[1,2]],[[5,6],[7,8],[3,2]]])\n",
    "# 这里的a.shape 是什么意思, 经过确认，这里的 结果分别表示 x，y，z 轴每个维度有几条数据 ,它们的乘积表示数组中元素的个数\n",
    "a.shape"
   ]
  },
  {
   "cell_type": "code",
   "execution_count": 16,
   "id": "9bb6beda",
   "metadata": {},
   "outputs": [
    {
     "data": {
      "text/plain": [
       "array([[1, 2, 3, 4],\n",
       "       [5, 6, 7, 8]])"
      ]
     },
     "execution_count": 16,
     "metadata": {},
     "output_type": "execute_result"
    }
   ],
   "source": [
    "# 飞：这里的a 必须是已经定义好的数组变量\n",
    "a = np.array([[[1,2],[3,4]],[[5,6],[7,8]]])\n",
    "a.shape=(2,4)\n",
    "a"
   ]
  },
  {
   "cell_type": "code",
   "execution_count": 77,
   "id": "dd8ad9ff",
   "metadata": {},
   "outputs": [
    {
     "data": {
      "text/plain": [
       "array([[1, 2],\n",
       "       [3, 4],\n",
       "       [5, 6],\n",
       "       [7, 8]])"
      ]
     },
     "execution_count": 77,
     "metadata": {},
     "output_type": "execute_result"
    }
   ],
   "source": [
    "# 切换数组的形状，\n",
    "a.shape=(4,2)\n",
    "a"
   ]
  },
  {
   "cell_type": "code",
   "execution_count": 79,
   "id": "57b33040",
   "metadata": {},
   "outputs": [
    {
     "ename": "ValueError",
     "evalue": "cannot reshape array of size 8 into shape (1,3)",
     "output_type": "error",
     "traceback": [
      "\u001b[0;31m---------------------------------------------------------------------------\u001b[0m",
      "\u001b[0;31mValueError\u001b[0m                                Traceback (most recent call last)",
      "\u001b[0;32m<ipython-input-79-e303bd485574>\u001b[0m in \u001b[0;36m<module>\u001b[0;34m\u001b[0m\n\u001b[0;32m----> 1\u001b[0;31m \u001b[0ma\u001b[0m\u001b[0;34m.\u001b[0m\u001b[0mshape\u001b[0m\u001b[0;34m=\u001b[0m\u001b[0;34m(\u001b[0m\u001b[0;36m1\u001b[0m\u001b[0;34m,\u001b[0m\u001b[0;36m3\u001b[0m\u001b[0;34m)\u001b[0m\u001b[0;34m\u001b[0m\u001b[0;34m\u001b[0m\u001b[0m\n\u001b[0m",
      "\u001b[0;31mValueError\u001b[0m: cannot reshape array of size 8 into shape (1,3)"
     ]
    }
   ],
   "source": [
    "a.shape=(1,3)"
   ]
  },
  {
   "cell_type": "code",
   "execution_count": 81,
   "id": "508eebf8",
   "metadata": {},
   "outputs": [
    {
     "ename": "ValueError",
     "evalue": "cannot reshape array of size 8 into shape (3,3)",
     "output_type": "error",
     "traceback": [
      "\u001b[0;31m---------------------------------------------------------------------------\u001b[0m",
      "\u001b[0;31mValueError\u001b[0m                                Traceback (most recent call last)",
      "\u001b[0;32m<ipython-input-81-c651bdf5a647>\u001b[0m in \u001b[0;36m<module>\u001b[0;34m\u001b[0m\n\u001b[0;32m----> 1\u001b[0;31m \u001b[0ma\u001b[0m\u001b[0;34m.\u001b[0m\u001b[0mshape\u001b[0m\u001b[0;34m=\u001b[0m\u001b[0;34m(\u001b[0m\u001b[0;36m3\u001b[0m\u001b[0;34m,\u001b[0m\u001b[0;36m3\u001b[0m\u001b[0;34m)\u001b[0m\u001b[0;34m\u001b[0m\u001b[0;34m\u001b[0m\u001b[0m\n\u001b[0m",
      "\u001b[0;31mValueError\u001b[0m: cannot reshape array of size 8 into shape (3,3)"
     ]
    }
   ],
   "source": [
    "a.shape=(3,3)"
   ]
  },
  {
   "cell_type": "markdown",
   "id": "5c9b8cf3",
   "metadata": {},
   "source": [
    "* 通过上面的两个错误示例，说明使用shape转换形状的时候，总数应该一致"
   ]
  },
  {
   "cell_type": "markdown",
   "id": "aef58221",
   "metadata": {},
   "source": [
    "## 创建一些特殊的数组 "
   ]
  },
  {
   "cell_type": "code",
   "execution_count": 86,
   "id": "6f5376f1",
   "metadata": {},
   "outputs": [
    {
     "data": {
      "text/plain": [
       "array([[0., 0.],\n",
       "       [0., 0.],\n",
       "       [0., 0.],\n",
       "       [0., 0.]])"
      ]
     },
     "execution_count": 86,
     "metadata": {},
     "output_type": "execute_result"
    }
   ],
   "source": [
    "import numpy as np\n",
    "c = np.zeros([4,2],dtype=float)\n",
    "c"
   ]
  },
  {
   "cell_type": "code",
   "execution_count": 88,
   "id": "862832b1",
   "metadata": {},
   "outputs": [
    {
     "data": {
      "text/plain": [
       "array([[0, 0],\n",
       "       [0, 0],\n",
       "       [0, 0],\n",
       "       [0, 0]])"
      ]
     },
     "execution_count": 88,
     "metadata": {},
     "output_type": "execute_result"
    }
   ],
   "source": [
    "# 创建一个数据类型维int 的零数组\n",
    "import numpy as np\n",
    "d = np.zeros([4,2], dtype=int);\n",
    "d"
   ]
  },
  {
   "cell_type": "code",
   "execution_count": 91,
   "id": "59048058",
   "metadata": {},
   "outputs": [
    {
     "data": {
      "text/plain": [
       "array([[1, 1],\n",
       "       [1, 1],\n",
       "       [1, 1]])"
      ]
     },
     "execution_count": 91,
     "metadata": {},
     "output_type": "execute_result"
    }
   ],
   "source": [
    "# 创建一个一数组。 （一数组乘以任何数组都是数组本身）\n",
    "np.ones([3,2],dtype=int)"
   ]
  },
  {
   "cell_type": "code",
   "execution_count": 95,
   "id": "65ce53e2",
   "metadata": {},
   "outputs": [
    {
     "data": {
      "text/plain": [
       "array([1, 1, 1, 1, 1])"
      ]
     },
     "execution_count": 95,
     "metadata": {},
     "output_type": "execute_result"
    }
   ],
   "source": [
    "import numpy as np\n",
    "# 产生一个简单的一数组\n",
    "np.ones(5,dtype=int)"
   ]
  },
  {
   "cell_type": "code",
   "execution_count": 97,
   "id": "2a3643c1",
   "metadata": {},
   "outputs": [
    {
     "data": {
      "text/plain": [
       "array([[1, 0, 0, 0, 0],\n",
       "       [0, 1, 0, 0, 0],\n",
       "       [0, 0, 1, 0, 0],\n",
       "       [0, 0, 0, 1, 0],\n",
       "       [0, 0, 0, 0, 1]])"
      ]
     },
     "execution_count": 97,
     "metadata": {},
     "output_type": "execute_result"
    }
   ],
   "source": [
    "import numpy as np\n",
    "# 创建一个对角矩阵, 对角全是1，其他的都是0。\n",
    "np.eye(5, dtype=int)"
   ]
  },
  {
   "cell_type": "code",
   "execution_count": 100,
   "id": "31ef0dc0",
   "metadata": {},
   "outputs": [
    {
     "data": {
      "text/plain": [
       "array([1, 2, 3, 4])"
      ]
     },
     "execution_count": 100,
     "metadata": {},
     "output_type": "execute_result"
    }
   ],
   "source": [
    "import numpy as np\n",
    "# 将列表转换为数组\n",
    "a = [1,2,3,4]\n",
    "b = np.asarray(a)\n",
    "b"
   ]
  },
  {
   "cell_type": "code",
   "execution_count": 103,
   "id": "527d70e7",
   "metadata": {},
   "outputs": [
    {
     "data": {
      "text/plain": [
       "array([1, 3, 5, 7, 9])"
      ]
     },
     "execution_count": 103,
     "metadata": {},
     "output_type": "execute_result"
    }
   ],
   "source": [
    "import numpy as np\n",
    "# 将元组转换为数组\n",
    "a = (1,3,5,7,9)\n",
    "b = np.asarray(a)\n",
    "b "
   ]
  },
  {
   "cell_type": "code",
   "execution_count": 104,
   "id": "926c5a33",
   "metadata": {},
   "outputs": [
    {
     "data": {
      "text/plain": [
       "array([[1, 3],\n",
       "       [2, 4]])"
      ]
     },
     "execution_count": 104,
     "metadata": {},
     "output_type": "execute_result"
    }
   ],
   "source": [
    "import numpy as np\n",
    "# 将 元组列表 转换为数组\n",
    "a = [(1,3),(2,4)]\n",
    "b = np.asarray(a)\n",
    "b"
   ]
  },
  {
   "cell_type": "markdown",
   "id": "9e855bdf",
   "metadata": {},
   "source": [
    "### 下面的关于np.frombuffer 方法不懂 ？？？"
   ]
  },
  {
   "cell_type": "code",
   "execution_count": 112,
   "id": "7cbe4296",
   "metadata": {},
   "outputs": [
    {
     "data": {
      "text/plain": [
       "array([b'My', b' p', b'yt', b'ho', b'n!'], dtype='|S2')"
      ]
     },
     "execution_count": 112,
     "metadata": {},
     "output_type": "execute_result"
    }
   ],
   "source": [
    "import numpy as np\n",
    "x = b'My python!'\n",
    "# 这里的 dtype 的是S2， 这里的s不能小写\n",
    "y = np.frombuffer(x,dtype='S2')\n",
    "y"
   ]
  },
  {
   "cell_type": "code",
   "execution_count": 115,
   "id": "d21f7f68",
   "metadata": {},
   "outputs": [
    {
     "data": {
      "text/plain": [
       "array([b'My', b' p', b'yt'], dtype='|S2')"
      ]
     },
     "execution_count": 115,
     "metadata": {},
     "output_type": "execute_result"
    }
   ],
   "source": [
    "import numpy as np\n",
    "x = b'My python!'\n",
    "y = np.frombuffer(x, dtype='S2',count=3)\n",
    "y"
   ]
  },
  {
   "cell_type": "code",
   "execution_count": 116,
   "id": "1eb02234",
   "metadata": {},
   "outputs": [
    {
     "ename": "TypeError",
     "evalue": "a bytes-like object is required, not 'str'",
     "output_type": "error",
     "traceback": [
      "\u001b[0;31m---------------------------------------------------------------------------\u001b[0m",
      "\u001b[0;31mTypeError\u001b[0m                                 Traceback (most recent call last)",
      "\u001b[0;32m<ipython-input-116-6a0f60109a1b>\u001b[0m in \u001b[0;36m<module>\u001b[0;34m\u001b[0m\n\u001b[1;32m      1\u001b[0m \u001b[0;32mimport\u001b[0m \u001b[0mnumpy\u001b[0m \u001b[0;32mas\u001b[0m \u001b[0mnp\u001b[0m\u001b[0;34m\u001b[0m\u001b[0;34m\u001b[0m\u001b[0m\n\u001b[1;32m      2\u001b[0m \u001b[0mx\u001b[0m \u001b[0;34m=\u001b[0m \u001b[0;34m'My python!'\u001b[0m\u001b[0;34m\u001b[0m\u001b[0;34m\u001b[0m\u001b[0m\n\u001b[0;32m----> 3\u001b[0;31m \u001b[0my\u001b[0m \u001b[0;34m=\u001b[0m \u001b[0mnp\u001b[0m\u001b[0;34m.\u001b[0m\u001b[0mfrombuffer\u001b[0m\u001b[0;34m(\u001b[0m\u001b[0mx\u001b[0m\u001b[0;34m,\u001b[0m \u001b[0mdtype\u001b[0m\u001b[0;34m=\u001b[0m\u001b[0;34m'S2'\u001b[0m\u001b[0;34m,\u001b[0m \u001b[0mcount\u001b[0m\u001b[0;34m=\u001b[0m\u001b[0;36m3\u001b[0m\u001b[0;34m)\u001b[0m\u001b[0;34m\u001b[0m\u001b[0;34m\u001b[0m\u001b[0m\n\u001b[0m",
      "\u001b[0;31mTypeError\u001b[0m: a bytes-like object is required, not 'str'"
     ]
    }
   ],
   "source": [
    "import numpy as np\n",
    "x = 'My python!'\n",
    "y = np.frombuffer(x, dtype='S2', count=3)"
   ]
  },
  {
   "cell_type": "markdown",
   "id": "67dad47b",
   "metadata": {},
   "source": [
    "* 从上面的报错可以知道，np.frombuffer 输入的参数应该是一个bytes (字节类型的数据，而不是字符串类型数据)"
   ]
  },
  {
   "cell_type": "code",
   "execution_count": 122,
   "id": "7f071874",
   "metadata": {},
   "outputs": [
    {
     "data": {
      "text/plain": [
       "array([b'My', b' p', b'yt'], dtype='|S2')"
      ]
     },
     "execution_count": 122,
     "metadata": {},
     "output_type": "execute_result"
    }
   ],
   "source": [
    "import numpy as np\n",
    "x = b'My python!'\n",
    "y = np.frombuffer(x, dtype='S2',count=3)\n",
    "y  # 通过 y.ndim 知道该数组是一个一维数组 "
   ]
  },
  {
   "cell_type": "code",
   "execution_count": 125,
   "id": "a35a4394",
   "metadata": {},
   "outputs": [
    {
     "data": {
      "text/plain": [
       "array([[0, 1, 2, 3],\n",
       "       [4, 5, 6, 7]])"
      ]
     },
     "execution_count": 125,
     "metadata": {},
     "output_type": "execute_result"
    }
   ],
   "source": [
    "import numpy as np\n",
    "# 通过其他形式生成数组,这里通过迭代生成数组 \n",
    "x = list(range(8))\n",
    "y = iter(x)\n",
    "z = np.fromiter(y, dtype=int)\n",
    "z.shape=(2,4)\n",
    "z"
   ]
  },
  {
   "cell_type": "code",
   "execution_count": 128,
   "id": "388862be",
   "metadata": {},
   "outputs": [
    {
     "data": {
      "text/plain": [
       "array([0, 1, 2, 3, 4, 5])"
      ]
     },
     "execution_count": 128,
     "metadata": {},
     "output_type": "execute_result"
    }
   ],
   "source": [
    "import numpy as np\n",
    "# 通过np 的 arange 生成数组\n",
    "x = np.arange(6)\n",
    "x"
   ]
  },
  {
   "cell_type": "code",
   "execution_count": 129,
   "id": "6a17a990",
   "metadata": {},
   "outputs": [
    {
     "data": {
      "text/plain": [
       "array([1, 2, 3, 4, 5, 6])"
      ]
     },
     "execution_count": 129,
     "metadata": {},
     "output_type": "execute_result"
    }
   ],
   "source": [
    "import numpy as np\n",
    "# 生成一个从1开始的数组\n",
    "x = np.arange(1,7)\n",
    "x"
   ]
  },
  {
   "cell_type": "code",
   "execution_count": 132,
   "id": "83635eb4",
   "metadata": {},
   "outputs": [
    {
     "data": {
      "text/plain": [
       "array([ 4,  6,  8, 10, 12, 14, 16, 18])"
      ]
     },
     "execution_count": 132,
     "metadata": {},
     "output_type": "execute_result"
    }
   ],
   "source": [
    "import numpy as np\n",
    "# 生成一个等差数组, 从4 开始， 20 结束， 步长是 2。\n",
    "a = np.arange(4,20,2)\n",
    "a"
   ]
  },
  {
   "cell_type": "code",
   "execution_count": 136,
   "id": "68f8eedc",
   "metadata": {},
   "outputs": [
    {
     "data": {
      "text/plain": [
       "array([[ 4,  6,  8, 10],\n",
       "       [12, 14, 16, 18]])"
      ]
     },
     "execution_count": 136,
     "metadata": {},
     "output_type": "execute_result"
    }
   ],
   "source": [
    "# 调整布局\n",
    "a.shape=(2,4)\n",
    "a"
   ]
  },
  {
   "cell_type": "code",
   "execution_count": 142,
   "id": "57335953",
   "metadata": {},
   "outputs": [
    {
     "data": {
      "text/plain": [
       "array([1, 1, 2, 2, 3, 3, 4, 5])"
      ]
     },
     "execution_count": 142,
     "metadata": {},
     "output_type": "execute_result"
    }
   ],
   "source": [
    "import numpy as np\n",
    "\n",
    "# 从1到5 之间创建指定步长的数组，这里的endpoint 为True 表示包含结尾的数  \n",
    "x = np.linspace(1,5,8, endpoint = True, dtype=int)\n",
    "x"
   ]
  },
  {
   "cell_type": "code",
   "execution_count": 147,
   "id": "37bb0e58",
   "metadata": {},
   "outputs": [
    {
     "data": {
      "text/plain": [
       "array([[[ 4.        ,  6.        ,  8.        , 10.        ],\n",
       "        [12.        , 14.        , 16.        , 18.        ]],\n",
       "\n",
       "       [[ 4.11111111,  5.88888889,  7.66666667,  9.44444444],\n",
       "        [11.22222222, 13.        , 14.77777778, 16.55555556]],\n",
       "\n",
       "       [[ 4.22222222,  5.77777778,  7.33333333,  8.88888889],\n",
       "        [10.44444444, 12.        , 13.55555556, 15.11111111]],\n",
       "\n",
       "       [[ 4.33333333,  5.66666667,  7.        ,  8.33333333],\n",
       "        [ 9.66666667, 11.        , 12.33333333, 13.66666667]],\n",
       "\n",
       "       [[ 4.44444444,  5.55555556,  6.66666667,  7.77777778],\n",
       "        [ 8.88888889, 10.        , 11.11111111, 12.22222222]],\n",
       "\n",
       "       [[ 4.55555556,  5.44444444,  6.33333333,  7.22222222],\n",
       "        [ 8.11111111,  9.        ,  9.88888889, 10.77777778]],\n",
       "\n",
       "       [[ 4.66666667,  5.33333333,  6.        ,  6.66666667],\n",
       "        [ 7.33333333,  8.        ,  8.66666667,  9.33333333]],\n",
       "\n",
       "       [[ 4.77777778,  5.22222222,  5.66666667,  6.11111111],\n",
       "        [ 6.55555556,  7.        ,  7.44444444,  7.88888889]],\n",
       "\n",
       "       [[ 4.88888889,  5.11111111,  5.33333333,  5.55555556],\n",
       "        [ 5.77777778,  6.        ,  6.22222222,  6.44444444]],\n",
       "\n",
       "       [[ 5.        ,  5.        ,  5.        ,  5.        ],\n",
       "        [ 5.        ,  5.        ,  5.        ,  5.        ]]])"
      ]
     },
     "execution_count": 147,
     "metadata": {},
     "output_type": "execute_result"
    }
   ],
   "source": [
    "import numpy as np\n",
    "x = np.linspace(a,5,10, endpoint=True, dtype=float)\n",
    "x.ndim # 三维数组\n",
    "x"
   ]
  },
  {
   "cell_type": "code",
   "execution_count": 149,
   "id": "21e75f02",
   "metadata": {},
   "outputs": [
    {
     "data": {
      "text/plain": [
       "array([  1.        ,   1.66810054,   2.7825594 ,   4.64158883,\n",
       "         7.74263683,  12.91549665,  21.5443469 ,  35.93813664,\n",
       "        59.94842503, 100.        ])"
      ]
     },
     "execution_count": 149,
     "metadata": {},
     "output_type": "execute_result"
    }
   ],
   "source": [
    "# 生成一个等比数列, 一共 10个数 \n",
    "import numpy as np\n",
    "x = np.logspace(0, 2.0, num = 10)\n",
    "x"
   ]
  },
  {
   "cell_type": "code",
   "execution_count": 151,
   "id": "c71fe45d",
   "metadata": {},
   "outputs": [
    {
     "data": {
      "text/plain": [
       "array([ 1.        ,  1.36079   ,  1.85174942,  2.5198421 ,  3.42897593,\n",
       "        4.66611616,  6.34960421,  8.64047791, 11.75787594, 16.        ])"
      ]
     },
     "execution_count": 151,
     "metadata": {},
     "output_type": "execute_result"
    }
   ],
   "source": [
    "# 生成一个等比数列, 一共 10个数 , 不懂 ？？？？\n",
    "import numpy as np\n",
    "x = np.logspace(0, 2.0, num = 10, base = 4)\n",
    "x"
   ]
  },
  {
   "cell_type": "code",
   "execution_count": null,
   "id": "430ad3ec",
   "metadata": {},
   "outputs": [],
   "source": []
  },
  {
   "cell_type": "code",
   "execution_count": null,
   "id": "6f1a2653",
   "metadata": {},
   "outputs": [],
   "source": []
  },
  {
   "cell_type": "code",
   "execution_count": null,
   "id": "d1d5d30f",
   "metadata": {},
   "outputs": [],
   "source": []
  },
  {
   "cell_type": "markdown",
   "id": "7d24e2ea",
   "metadata": {},
   "source": [
    "# 4.4 数组与切片"
   ]
  },
  {
   "cell_type": "markdown",
   "id": "ea2fd229",
   "metadata": {},
   "source": [
    "飞： 数组的切片---降维"
   ]
  },
  {
   "cell_type": "code",
   "execution_count": 156,
   "id": "c76f7c99",
   "metadata": {},
   "outputs": [
    {
     "name": "stdout",
     "output_type": "stream",
     "text": [
      "[ 0  1  2  3  4  5  6  7  8  9 10 11]\n"
     ]
    },
    {
     "data": {
      "text/plain": [
       "numpy.ndarray"
      ]
     },
     "execution_count": 156,
     "metadata": {},
     "output_type": "execute_result"
    }
   ],
   "source": [
    "import numpy as np\n",
    "x = np.arange(12)\n",
    "print(x)\n",
    "type(x)"
   ]
  },
  {
   "cell_type": "code",
   "execution_count": 160,
   "id": "1a1849e7",
   "metadata": {},
   "outputs": [
    {
     "name": "stdout",
     "output_type": "stream",
     "text": [
      "[ 0  1  2  3  4  5  6  7  8  9 10 11]\n",
      "[2 5 8]\n"
     ]
    }
   ],
   "source": [
    "import numpy as np\n",
    "x = np.arange(12)\n",
    "print(x)\n",
    "# 从2 到10 ，每隔3 获取一个元素\n",
    "y = x[2:10:3]\n",
    "print(y)"
   ]
  },
  {
   "cell_type": "code",
   "execution_count": 167,
   "id": "a7e96592",
   "metadata": {},
   "outputs": [
    {
     "name": "stdout",
     "output_type": "stream",
     "text": [
      "x =  [ 0  1  2  3  4  5  6  7  8  9 10 11]\n",
      "y =  [2 5 8]\n",
      "x[3] =  3\n",
      "x[3:] [ 3  4  5  6  7  8  9 10 11]\n"
     ]
    }
   ],
   "source": [
    "# slice \n",
    "import numpy as np\n",
    "x = np.arange(12)\n",
    "print('x = ',x)\n",
    "s = slice(2,10,3)\n",
    "y = x[s]\n",
    "print('y = ' , y)\n",
    "print('x[3] = ', x[3])\n",
    "print('x[3:]', x[3:])"
   ]
  },
  {
   "cell_type": "code",
   "execution_count": 178,
   "id": "1b05d227",
   "metadata": {
    "scrolled": true
   },
   "outputs": [
    {
     "name": "stdout",
     "output_type": "stream",
     "text": [
      "x =  [[1 2 3]\n",
      " [3 4 5]\n",
      " [5 6 7]]\n",
      "x的类型： <class 'numpy.ndarray'>\n"
     ]
    },
    {
     "data": {
      "text/plain": [
       "array([5, 2, 3])"
      ]
     },
     "execution_count": 178,
     "metadata": {},
     "output_type": "execute_result"
    }
   ],
   "source": [
    "# \n",
    "import numpy as np\n",
    "x = np.array([[1,2,3],[3,4,5],[5,6,7]])\n",
    "print('x = ', x) \n",
    "print('x的类型：', type(x))\n",
    "row = [1,0,1]\n",
    "col = [2,1,0]\n",
    "# 这里x[row,col] 表示取x数组中，第二行第三列， 第一行第二列，第二行第一列的曲取值 \n",
    "y = x[row,col]\n",
    "y\n"
   ]
  },
  {
   "cell_type": "code",
   "execution_count": null,
   "id": "22da6949",
   "metadata": {},
   "outputs": [],
   "source": []
  },
  {
   "cell_type": "code",
   "execution_count": null,
   "id": "d97a7490",
   "metadata": {},
   "outputs": [],
   "source": []
  },
  {
   "cell_type": "code",
   "execution_count": null,
   "id": "666289ec",
   "metadata": {},
   "outputs": [],
   "source": []
  },
  {
   "cell_type": "code",
   "execution_count": null,
   "id": "ba2a5982",
   "metadata": {},
   "outputs": [],
   "source": []
  },
  {
   "cell_type": "code",
   "execution_count": null,
   "id": "f680f6ef",
   "metadata": {},
   "outputs": [],
   "source": []
  }
 ],
 "metadata": {
  "kernelspec": {
   "display_name": "Python 3",
   "language": "python",
   "name": "python3"
  },
  "language_info": {
   "codemirror_mode": {
    "name": "ipython",
    "version": 3
   },
   "file_extension": ".py",
   "mimetype": "text/x-python",
   "name": "python",
   "nbconvert_exporter": "python",
   "pygments_lexer": "ipython3",
   "version": "3.8.8"
  }
 },
 "nbformat": 4,
 "nbformat_minor": 5
}
