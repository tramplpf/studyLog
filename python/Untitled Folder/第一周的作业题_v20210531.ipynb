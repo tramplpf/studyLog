{
 "cells": [
  {
   "cell_type": "markdown",
   "id": "67a27068",
   "metadata": {},
   "source": [
    "# Python第二周作业"
   ]
  },
  {
   "cell_type": "markdown",
   "id": "849a88fe",
   "metadata": {},
   "source": [
    "* 1. a = '123',这里的a 是什么类型？？   \n",
    "       答案：  Str 类型\n",
    "* 2. [1,2,3] 是什么类型？   \n",
    "        答案： List（列表）类型   \n",
    "* 3. 11//3 的输出结果是？   \n",
    "        答案： 3。   \n",
    "* 4. a = {'A','B','C','A','B','C'}  \n",
    "  a = a[:2] + a[3:]   \n",
    "  a = ？？  \n",
    "      答案： ('A', 'B', 'A', 'B', 'C')\n",
    "* 5. 以下代码的输出结果是：   \n",
    "    a = [2,3,4]   \n",
    "    a.append(1)   \n",
    "    a  \n",
    "        答案：[2,3,4,1]  \n",
    "* 6. 统计列表 a = ['XX','YY','ZZ','XX','YY'] 中‘XX’的数量用到的函数   \n",
    "        答案： count()\n",
    "   \n",
    "* 7. 关于字典中key的说法正确的是   \n",
    "        答案： 必须具有唯一性\n",
    "  \n",
    "* 8. 以下代码的输出结果是：   \n",
    "    str = '123456789'   \n",
    "    str[-2:]   \n",
    "        答案：'89'\n",
    "* 9. [代码题] 要求用format 的方法，产生新闻标题： 2019.1.10,泰山队战胜了华山队，取得了本轮比赛是的胜利。   \n",
    "    Date1 = '2021.1.10'\n",
    "    Team1 = '泰山队'\n",
    "    Team2 = '华山队'   \n",
    "        答案： 参见下面代码块\n",
    "        \n",
    "* 10. [代码题]：根据 http://vip.stock.finance.sina.com.cn/mkt 信息，生成了一只股票的字典数据，key 包括： 代码，名称，最新价， 涨跌额， 涨跌幅，买入，卖出，数值可以根据实际数据填入。     \n",
    "        答案： 参见下面的代码块\n",
    "    \n",
    "    "
   ]
  },
  {
   "cell_type": "code",
   "execution_count": 5,
   "id": "c2ebab9d",
   "metadata": {},
   "outputs": [
    {
     "data": {
      "text/plain": [
       "'2021.1.10,泰山队战胜了华山队,取得了本轮比赛的胜利'"
      ]
     },
     "execution_count": 5,
     "metadata": {},
     "output_type": "execute_result"
    }
   ],
   "source": [
    "# 2019.1.10,泰山队战胜了华山队，取得了本轮比赛的胜利 \n",
    "Date1 = '2021.1.10'  \n",
    "Team1 = '泰山队'  \n",
    "Team2 = '华山队'  \n",
    "\n",
    "msg = \"{},{}战胜了{},取得了本轮比赛的胜利\" .format(Date1, Team1, Team2);\n",
    "msg"
   ]
  },
  {
   "cell_type": "code",
   "execution_count": 1,
   "id": "cad8707e",
   "metadata": {},
   "outputs": [
    {
     "data": {
      "text/plain": [
       "{'代码': 'sh688316',\n",
       " '名称': '青云科技',\n",
       " '最新价': 88.49,\n",
       " '涨跌额': '+14.75',\n",
       " '涨跌幅': '+20.003%',\n",
       " '买入': 88.49,\n",
       " '卖出': 0.0}"
      ]
     },
     "execution_count": 1,
     "metadata": {},
     "output_type": "execute_result"
    }
   ],
   "source": [
    "# 这两道题，出题者又一些小心思\n",
    "# 生成了一只股票的字典数据，key 包括： 代码，名称，最新价， 涨跌额， 涨跌幅，买入，卖出，数值可以根据实际数据填入。 \n",
    "dict = {'代码':'sh688316','名称':'青云科技','最新价':88.49,'涨跌额':'+14.75','涨跌幅':'+20.003%','买入':88.49,'卖出':0.00}\n",
    "dict"
   ]
  },
  {
   "cell_type": "code",
   "execution_count": null,
   "id": "f8a18909",
   "metadata": {},
   "outputs": [],
   "source": []
  },
  {
   "cell_type": "code",
   "execution_count": null,
   "id": "914b5b17",
   "metadata": {},
   "outputs": [],
   "source": []
  },
  {
   "cell_type": "code",
   "execution_count": null,
   "id": "12d2d6a6",
   "metadata": {},
   "outputs": [],
   "source": []
  },
  {
   "cell_type": "code",
   "execution_count": null,
   "id": "af8403d1",
   "metadata": {},
   "outputs": [],
   "source": []
  },
  {
   "cell_type": "markdown",
   "id": "4fba7737",
   "metadata": {},
   "source": [
    "# 其他人写的比较好的作业"
   ]
  },
  {
   "cell_type": "code",
   "execution_count": null,
   "id": "05928df7",
   "metadata": {},
   "outputs": [],
   "source": []
  }
 ],
 "metadata": {
  "kernelspec": {
   "display_name": "Python 3",
   "language": "python",
   "name": "python3"
  },
  "language_info": {
   "codemirror_mode": {
    "name": "ipython",
    "version": 3
   },
   "file_extension": ".py",
   "mimetype": "text/x-python",
   "name": "python",
   "nbconvert_exporter": "python",
   "pygments_lexer": "ipython3",
   "version": "3.8.8"
  }
 },
 "nbformat": 4,
 "nbformat_minor": 5
}
