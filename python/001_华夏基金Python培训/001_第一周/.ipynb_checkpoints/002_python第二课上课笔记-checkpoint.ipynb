{
 "cells": [
  {
   "cell_type": "markdown",
   "id": "1ffdfcf0",
   "metadata": {},
   "source": [
    "## todo \n",
    "1. jupyter安装查看变量类型的插件"
   ]
  },
  {
   "cell_type": "code",
   "execution_count": null,
   "id": "c0f9e36e",
   "metadata": {},
   "outputs": [],
   "source": [
    "income1=5000\n",
    "income2=5000.00"
   ]
  },
  {
   "cell_type": "code",
   "execution_count": 3,
   "id": "52089e99",
   "metadata": {},
   "outputs": [
    {
     "data": {
      "text/plain": [
       "5000"
      ]
     },
     "execution_count": 3,
     "metadata": {},
     "output_type": "execute_result"
    }
   ],
   "source": [
    "income1"
   ]
  },
  {
   "cell_type": "code",
   "execution_count": 11,
   "id": "829d4d4d",
   "metadata": {},
   "outputs": [
    {
     "name": "stdout",
     "output_type": "stream",
     "text": [
      "income1的类型是： <class 'int'>\n"
     ]
    }
   ],
   "source": [
    "print('income1的类型是：', type(income1));"
   ]
  },
  {
   "cell_type": "code",
   "execution_count": 12,
   "id": "a51c1b7d",
   "metadata": {},
   "outputs": [
    {
     "name": "stdout",
     "output_type": "stream",
     "text": [
      "incode2d的类型： <class 'float'>\n"
     ]
    }
   ],
   "source": [
    "print('incode2d的类型：', type(income2))"
   ]
  },
  {
   "cell_type": "markdown",
   "id": "b250d479",
   "metadata": {},
   "source": [
    "注意： 括号左右对齐"
   ]
  },
  {
   "cell_type": "code",
   "execution_count": 14,
   "id": "c7d7e152",
   "metadata": {},
   "outputs": [
    {
     "data": {
      "text/plain": [
       "True"
      ]
     },
     "execution_count": 14,
     "metadata": {},
     "output_type": "execute_result"
    }
   ],
   "source": [
    "isinstance(income1, int)"
   ]
  },
  {
   "cell_type": "code",
   "execution_count": 16,
   "id": "372e775b",
   "metadata": {},
   "outputs": [
    {
     "data": {
      "text/plain": [
       "False"
      ]
     },
     "execution_count": 16,
     "metadata": {},
     "output_type": "execute_result"
    }
   ],
   "source": [
    "isinstance(income1,float)"
   ]
  },
  {
   "cell_type": "markdown",
   "id": "bb5da19c",
   "metadata": {},
   "source": [
    "整形，浮点型，布尔型"
   ]
  },
  {
   "cell_type": "code",
   "execution_count": 23,
   "id": "a8767ba9",
   "metadata": {},
   "outputs": [
    {
     "data": {
      "text/plain": [
       "bool"
      ]
     },
     "execution_count": 23,
     "metadata": {},
     "output_type": "execute_result"
    }
   ],
   "source": [
    "type(isinstance(income1,float))"
   ]
  },
  {
   "cell_type": "code",
   "execution_count": 24,
   "id": "54038ff7",
   "metadata": {},
   "outputs": [
    {
     "data": {
      "text/plain": [
       "True"
      ]
     },
     "execution_count": 24,
     "metadata": {},
     "output_type": "execute_result"
    }
   ],
   "source": [
    "type(income1) == int"
   ]
  },
  {
   "cell_type": "markdown",
   "id": "a1185bd5",
   "metadata": {},
   "source": [
    "## 2.2 多变量赋值和基本运算"
   ]
  },
  {
   "cell_type": "code",
   "execution_count": 27,
   "id": "c394214c",
   "metadata": {},
   "outputs": [],
   "source": [
    "# 多类型赋值\n",
    "a,b,c = 50,45.2, True"
   ]
  },
  {
   "cell_type": "code",
   "execution_count": 28,
   "id": "1ce3ae50",
   "metadata": {},
   "outputs": [
    {
     "name": "stdout",
     "output_type": "stream",
     "text": [
      "a = : 50\n",
      "b= : 45.2\n",
      "c=: True\n"
     ]
    }
   ],
   "source": [
    "print('a = :',a)\n",
    "print('b= :',b)\n",
    "print('c=:',c)"
   ]
  },
  {
   "cell_type": "markdown",
   "id": "ca8c09b5",
   "metadata": {},
   "source": [
    "* (飞)这里在赋值的是要注意，bool 类型的True要注意大小写， 不能写成 true "
   ]
  },
  {
   "cell_type": "code",
   "execution_count": 29,
   "id": "0f512c4a",
   "metadata": {},
   "outputs": [
    {
     "data": {
      "text/plain": [
       "11"
      ]
     },
     "execution_count": 29,
     "metadata": {},
     "output_type": "execute_result"
    }
   ],
   "source": [
    " 5+6"
   ]
  },
  {
   "cell_type": "code",
   "execution_count": 30,
   "id": "25d1a971",
   "metadata": {},
   "outputs": [
    {
     "data": {
      "text/plain": [
       "-1.1999999999999993"
      ]
     },
     "execution_count": 30,
     "metadata": {},
     "output_type": "execute_result"
    }
   ],
   "source": [
    "8-9.2"
   ]
  },
  {
   "cell_type": "code",
   "execution_count": 31,
   "id": "e3aded10",
   "metadata": {},
   "outputs": [
    {
     "data": {
      "text/plain": [
       "10.5"
      ]
     },
     "execution_count": 31,
     "metadata": {},
     "output_type": "execute_result"
    }
   ],
   "source": [
    "3 * 3.5"
   ]
  },
  {
   "cell_type": "markdown",
   "id": "68d215f1",
   "metadata": {},
   "source": [
    "$3\\times3.5=10.3$"
   ]
  },
  {
   "cell_type": "code",
   "execution_count": 38,
   "id": "a29821f6",
   "metadata": {},
   "outputs": [
    {
     "data": {
      "text/plain": [
       "0.6666666666666666"
      ]
     },
     "execution_count": 38,
     "metadata": {},
     "output_type": "execute_result"
    }
   ],
   "source": [
    "2/3"
   ]
  },
  {
   "cell_type": "markdown",
   "id": "2243b623",
   "metadata": {},
   "source": [
    "* 除法取整数位（双斜杠向下取整）"
   ]
  },
  {
   "cell_type": "code",
   "execution_count": 42,
   "id": "ebefbef7",
   "metadata": {},
   "outputs": [
    {
     "data": {
      "text/plain": [
       "3.75"
      ]
     },
     "execution_count": 42,
     "metadata": {},
     "output_type": "execute_result"
    }
   ],
   "source": [
    "15/4"
   ]
  },
  {
   "cell_type": "code",
   "execution_count": 43,
   "id": "0ff45b69",
   "metadata": {},
   "outputs": [
    {
     "data": {
      "text/plain": [
       "2.5"
      ]
     },
     "execution_count": 43,
     "metadata": {},
     "output_type": "execute_result"
    }
   ],
   "source": [
    "15/6"
   ]
  },
  {
   "cell_type": "code",
   "execution_count": 46,
   "id": "180e4877",
   "metadata": {},
   "outputs": [
    {
     "data": {
      "text/plain": [
       "3"
      ]
     },
     "execution_count": 46,
     "metadata": {},
     "output_type": "execute_result"
    }
   ],
   "source": [
    "15//4"
   ]
  },
  {
   "cell_type": "code",
   "execution_count": 47,
   "id": "2dfcce13",
   "metadata": {},
   "outputs": [
    {
     "data": {
      "text/plain": [
       "2"
      ]
     },
     "execution_count": 47,
     "metadata": {},
     "output_type": "execute_result"
    }
   ],
   "source": [
    "15//6"
   ]
  },
  {
   "cell_type": "code",
   "execution_count": 50,
   "id": "fc8491a5",
   "metadata": {},
   "outputs": [
    {
     "data": {
      "text/plain": [
       "3"
      ]
     },
     "execution_count": 50,
     "metadata": {},
     "output_type": "execute_result"
    }
   ],
   "source": [
    "#整数取余数\n",
    "11%4"
   ]
  },
  {
   "cell_type": "markdown",
   "id": "93651699",
   "metadata": {},
   "source": [
    "上面的# 表示代码中的注视"
   ]
  },
  {
   "cell_type": "code",
   "execution_count": 53,
   "id": "3666dc58",
   "metadata": {},
   "outputs": [
    {
     "data": {
      "text/plain": [
       "0.33"
      ]
     },
     "execution_count": 53,
     "metadata": {},
     "output_type": "execute_result"
    }
   ],
   "source": [
    "# 使用round 方法进行四舍五入的运算，后面的2，表示保留小数位数\n",
    "round(1/3,2)"
   ]
  },
  {
   "cell_type": "code",
   "execution_count": 55,
   "id": "78d1a317",
   "metadata": {},
   "outputs": [
    {
     "data": {
      "text/plain": [
       "8"
      ]
     },
     "execution_count": 55,
     "metadata": {},
     "output_type": "execute_result"
    }
   ],
   "source": [
    "# 2的三次方\n",
    "2**3"
   ]
  },
  {
   "cell_type": "markdown",
   "id": "3079f7e5",
   "metadata": {},
   "source": [
    "$2^{x^2+y^2}$"
   ]
  },
  {
   "cell_type": "markdown",
   "id": "6498a373",
   "metadata": {},
   "source": [
    "上面的公式，是通过添加大括号将 x^ + y^2 都放在2的次方上"
   ]
  },
  {
   "cell_type": "markdown",
   "id": "07dca5b6",
   "metadata": {},
   "source": [
    "* 下面演示开根号"
   ]
  },
  {
   "cell_type": "code",
   "execution_count": 60,
   "id": "cfa77dc7",
   "metadata": {},
   "outputs": [
    {
     "data": {
      "text/plain": [
       "4.0"
      ]
     },
     "execution_count": 60,
     "metadata": {},
     "output_type": "execute_result"
    }
   ],
   "source": [
    "16**(0.5)"
   ]
  },
  {
   "cell_type": "markdown",
   "id": "ab1c2881",
   "metadata": {},
   "source": [
    "* 张三初始资产是1000元，年华收益率为3%，五年后资产预期是多少？"
   ]
  },
  {
   "cell_type": "markdown",
   "id": "ce56bfee",
   "metadata": {},
   "source": [
    "计算公式如下：\n",
    "a 表示初始资产\n",
    "b 表示年华收益率\n",
    "c 表示多少年   \n",
    "$a\\times(1+b)^c$"
   ]
  },
  {
   "cell_type": "markdown",
   "id": "6f21ea59",
   "metadata": {},
   "source": [
    "$a\\times(1+b)^c$"
   ]
  },
  {
   "cell_type": "code",
   "execution_count": 62,
   "id": "ec76e690",
   "metadata": {},
   "outputs": [
    {
     "data": {
      "text/plain": [
       "1159.2740743000002"
      ]
     },
     "execution_count": 62,
     "metadata": {},
     "output_type": "execute_result"
    }
   ],
   "source": [
    "1000 * (1+0.03)**5"
   ]
  },
  {
   "cell_type": "code",
   "execution_count": 66,
   "id": "db024bfc",
   "metadata": {},
   "outputs": [
    {
     "name": "stdout",
     "output_type": "stream",
     "text": [
      "五年后的资产是: 1159.27 CNY\n"
     ]
    }
   ],
   "source": [
    "print('五年后的资产是:', round(1000 * (1+0.03)**5,2), \"CNY\")"
   ]
  },
  {
   "cell_type": "code",
   "execution_count": null,
   "id": "1403c03b",
   "metadata": {},
   "outputs": [],
   "source": []
  },
  {
   "cell_type": "markdown",
   "id": "ece7ff40",
   "metadata": {},
   "source": [
    "## 2.3字符串的长度和切片 "
   ]
  },
  {
   "cell_type": "code",
   "execution_count": 69,
   "id": "375550b9",
   "metadata": {},
   "outputs": [],
   "source": [
    "fund1=500\n",
    "fund2=\"500\""
   ]
  },
  {
   "cell_type": "code",
   "execution_count": 71,
   "id": "584f44fd",
   "metadata": {},
   "outputs": [
    {
     "name": "stdout",
     "output_type": "stream",
     "text": [
      "fund1 的数据类型： <class 'int'>\n",
      "fund2 的数据类型： <class 'str'>\n"
     ]
    }
   ],
   "source": [
    "print('fund1 的数据类型：', type(fund1))\n",
    "print('fund2 的数据类型：', type(fund2))"
   ]
  },
  {
   "cell_type": "code",
   "execution_count": 73,
   "id": "7f9dd495",
   "metadata": {},
   "outputs": [
    {
     "name": "stdout",
     "output_type": "stream",
     "text": [
      "this is my first code\n"
     ]
    }
   ],
   "source": [
    "str = \"this is my first code\"\n",
    "print(str)"
   ]
  },
  {
   "cell_type": "code",
   "execution_count": 75,
   "id": "46178f34",
   "metadata": {},
   "outputs": [
    {
     "data": {
      "text/plain": [
       "21"
      ]
     },
     "execution_count": 75,
     "metadata": {},
     "output_type": "execute_result"
    }
   ],
   "source": [
    "len(str)"
   ]
  },
  {
   "cell_type": "code",
   "execution_count": 80,
   "id": "2285288c",
   "metadata": {},
   "outputs": [
    {
     "data": {
      "text/plain": [
       "'t'"
      ]
     },
     "execution_count": 80,
     "metadata": {},
     "output_type": "execute_result"
    }
   ],
   "source": [
    "# python 的规则是 左闭右开\n",
    "str[0:1]"
   ]
  },
  {
   "cell_type": "code",
   "execution_count": 81,
   "id": "bb53ed95",
   "metadata": {},
   "outputs": [
    {
     "data": {
      "text/plain": [
       "'is'"
      ]
     },
     "execution_count": 81,
     "metadata": {},
     "output_type": "execute_result"
    }
   ],
   "source": [
    "str[2:4]"
   ]
  },
  {
   "cell_type": "code",
   "execution_count": 82,
   "id": "67dd431f",
   "metadata": {},
   "outputs": [
    {
     "data": {
      "text/plain": [
       "'is '"
      ]
     },
     "execution_count": 82,
     "metadata": {},
     "output_type": "execute_result"
    }
   ],
   "source": [
    "str[2:5]"
   ]
  },
  {
   "cell_type": "code",
   "execution_count": 85,
   "id": "e15bbc65",
   "metadata": {},
   "outputs": [
    {
     "name": "stdout",
     "output_type": "stream",
     "text": [
      "str= this is my first code\n"
     ]
    }
   ],
   "source": [
    "print('str=',str)"
   ]
  },
  {
   "cell_type": "code",
   "execution_count": 89,
   "id": "ffac72ff",
   "metadata": {},
   "outputs": [
    {
     "data": {
      "text/plain": [
       "'t mi e'"
      ]
     },
     "execution_count": 89,
     "metadata": {},
     "output_type": "execute_result"
    }
   ],
   "source": [
    "# 从头到尾，每4个取一个字符， 头这里用0 表示， 尾使用 len（str）， \n",
    "str[0:len(str):4]"
   ]
  },
  {
   "cell_type": "code",
   "execution_count": 88,
   "id": "c38e5504",
   "metadata": {},
   "outputs": [
    {
     "data": {
      "text/plain": [
       "' my first code'"
      ]
     },
     "execution_count": 88,
     "metadata": {},
     "output_type": "execute_result"
    }
   ],
   "source": [
    "# 获取第7个字符之后的所有字符\n",
    "str[7:]"
   ]
  },
  {
   "cell_type": "code",
   "execution_count": 90,
   "id": "fb45286b",
   "metadata": {},
   "outputs": [
    {
     "data": {
      "text/plain": [
       "'this is'"
      ]
     },
     "execution_count": 90,
     "metadata": {},
     "output_type": "execute_result"
    }
   ],
   "source": [
    "# 7之前的所有字符（不包括7，0-6）\n",
    "str[:7]"
   ]
  },
  {
   "cell_type": "code",
   "execution_count": 91,
   "id": "a76b17ee",
   "metadata": {},
   "outputs": [
    {
     "data": {
      "text/plain": [
       "7"
      ]
     },
     "execution_count": 91,
     "metadata": {},
     "output_type": "execute_result"
    }
   ],
   "source": [
    "len(str[:7])"
   ]
  },
  {
   "cell_type": "code",
   "execution_count": 92,
   "id": "9a853569",
   "metadata": {},
   "outputs": [
    {
     "name": "stdout",
     "output_type": "stream",
     "text": [
      "str= this is my first code\n"
     ]
    }
   ],
   "source": [
    "print('str=',str)"
   ]
  },
  {
   "cell_type": "code",
   "execution_count": 3,
   "id": "f3496391",
   "metadata": {},
   "outputs": [
    {
     "ename": "TypeError",
     "evalue": "'type' object is not subscriptable",
     "output_type": "error",
     "traceback": [
      "\u001b[0;31m---------------------------------------------------------------------------\u001b[0m",
      "\u001b[0;31mTypeError\u001b[0m                                 Traceback (most recent call last)",
      "\u001b[0;32m<ipython-input-3-45b109c55dd2>\u001b[0m in \u001b[0;36m<module>\u001b[0;34m\u001b[0m\n\u001b[1;32m      1\u001b[0m \u001b[0;31m# 反向取, 从后往前取第2个字符\u001b[0m\u001b[0;34m\u001b[0m\u001b[0;34m\u001b[0m\u001b[0;34m\u001b[0m\u001b[0m\n\u001b[0;32m----> 2\u001b[0;31m \u001b[0mstr\u001b[0m\u001b[0;34m[\u001b[0m\u001b[0;34m-\u001b[0m\u001b[0;36m2\u001b[0m\u001b[0;34m]\u001b[0m\u001b[0;34m\u001b[0m\u001b[0;34m\u001b[0m\u001b[0m\n\u001b[0m",
      "\u001b[0;31mTypeError\u001b[0m: 'type' object is not subscriptable"
     ]
    }
   ],
   "source": [
    "# 反向取, 从后往前取第2个字符\n",
    "str[-2]"
   ]
  },
  {
   "cell_type": "code",
   "execution_count": 2,
   "id": "2c838053",
   "metadata": {},
   "outputs": [
    {
     "ename": "TypeError",
     "evalue": "'type' object is not subscriptable",
     "output_type": "error",
     "traceback": [
      "\u001b[0;31m---------------------------------------------------------------------------\u001b[0m",
      "\u001b[0;31mTypeError\u001b[0m                                 Traceback (most recent call last)",
      "\u001b[0;32m<ipython-input-2-c02909593934>\u001b[0m in \u001b[0;36m<module>\u001b[0;34m\u001b[0m\n\u001b[1;32m      1\u001b[0m \u001b[0;31m# 反向取, 从后往前取第4个字符\u001b[0m\u001b[0;34m\u001b[0m\u001b[0;34m\u001b[0m\u001b[0;34m\u001b[0m\u001b[0m\n\u001b[0;32m----> 2\u001b[0;31m \u001b[0mstr\u001b[0m\u001b[0;34m[\u001b[0m\u001b[0;34m-\u001b[0m\u001b[0;36m4\u001b[0m\u001b[0;34m]\u001b[0m\u001b[0;34m\u001b[0m\u001b[0;34m\u001b[0m\u001b[0m\n\u001b[0m",
      "\u001b[0;31mTypeError\u001b[0m: 'type' object is not subscriptable"
     ]
    }
   ],
   "source": [
    "# 反向取, 从后往前取第4个字符\n",
    "str[-4]"
   ]
  },
  {
   "cell_type": "code",
   "execution_count": 94,
   "id": "eee11198",
   "metadata": {},
   "outputs": [
    {
     "data": {
      "text/plain": [
       "'de'"
      ]
     },
     "execution_count": 94,
     "metadata": {},
     "output_type": "execute_result"
    }
   ],
   "source": [
    "str[-2:]"
   ]
  },
  {
   "cell_type": "code",
   "execution_count": null,
   "id": "b92e0cb3",
   "metadata": {},
   "outputs": [],
   "source": []
  },
  {
   "cell_type": "markdown",
   "id": "a77bfc47",
   "metadata": {},
   "source": [
    "## 2.4 字符串的连接"
   ]
  },
  {
   "cell_type": "code",
   "execution_count": 101,
   "id": "3c9c7b57",
   "metadata": {},
   "outputs": [
    {
     "name": "stdout",
     "output_type": "stream",
     "text": [
      "str= This is my first code\n"
     ]
    }
   ],
   "source": [
    "str = \"This is my first code\"\n",
    "print('str=',str)"
   ]
  },
  {
   "cell_type": "code",
   "execution_count": 102,
   "id": "3615272c",
   "metadata": {},
   "outputs": [
    {
     "data": {
      "text/plain": [
       "'This is my first code python'"
      ]
     },
     "execution_count": 102,
     "metadata": {},
     "output_type": "execute_result"
    }
   ],
   "source": [
    "str + \" python\""
   ]
  },
  {
   "cell_type": "code",
   "execution_count": 105,
   "id": "17cb8089",
   "metadata": {},
   "outputs": [
    {
     "data": {
      "text/plain": [
       "('This is my first code', 'python3')"
      ]
     },
     "execution_count": 105,
     "metadata": {},
     "output_type": "execute_result"
    }
   ],
   "source": [
    "a = (str,'python3')\n",
    "a"
   ]
  },
  {
   "cell_type": "code",
   "execution_count": 106,
   "id": "95b1601e",
   "metadata": {},
   "outputs": [
    {
     "name": "stdout",
     "output_type": "stream",
     "text": [
      "a= ('This is my first code', 'python3')\n"
     ]
    }
   ],
   "source": [
    "print('a=',a)"
   ]
  },
  {
   "cell_type": "code",
   "execution_count": 109,
   "id": "31e8c2e0",
   "metadata": {},
   "outputs": [
    {
     "data": {
      "text/plain": [
       "'股东代码1234的收益率为5%'"
      ]
     },
     "execution_count": 109,
     "metadata": {},
     "output_type": "execute_result"
    }
   ],
   "source": [
    "# 这里格式化代码  %(变量) \n",
    "a = \"1234\"\n",
    "b=\"5%\"\n",
    "c=\"股东代码\" + '%s'%(a)+'的收益率为' + '%s'%(b)\n",
    "c"
   ]
  },
  {
   "cell_type": "code",
   "execution_count": 113,
   "id": "0edc6d11",
   "metadata": {},
   "outputs": [
    {
     "data": {
      "text/plain": [
       "'xxx市的GDP增速达到了2.5%.'"
      ]
     },
     "execution_count": 113,
     "metadata": {},
     "output_type": "execute_result"
    }
   ],
   "source": [
    "# 格式化代码 ， 通过format \n",
    "a=\"xxx\"\n",
    "b=\"2.5%\"\n",
    "c=\"{}市的GDP增速达到了{}.\" .format(a,b)\n",
    "c"
   ]
  },
  {
   "cell_type": "code",
   "execution_count": 115,
   "id": "9ae83652",
   "metadata": {},
   "outputs": [
    {
     "name": "stdout",
     "output_type": "stream",
     "text": [
      "重要的事情说三遍 python!python!python!\n"
     ]
    }
   ],
   "source": [
    "print('重要的事情说三遍','python!'*3)"
   ]
  },
  {
   "cell_type": "code",
   "execution_count": 120,
   "id": "a38912d7",
   "metadata": {},
   "outputs": [
    {
     "data": {
      "text/plain": [
       "'这this 是is 我的my 第一个first 代码code '"
      ]
     },
     "execution_count": 120,
     "metadata": {},
     "output_type": "execute_result"
    }
   ],
   "source": [
    "# 输入变量有变化，输出变量随着变化\n",
    "a,b,c,d,e = 'this ','is ','my ','first ','code '\n",
    "sent=f'这{a}是{b}我的{c}第一个{d}代码{e}'\n",
    "sent"
   ]
  },
  {
   "cell_type": "code",
   "execution_count": null,
   "id": "eaac8ef0",
   "metadata": {},
   "outputs": [],
   "source": []
  },
  {
   "cell_type": "markdown",
   "id": "138f6a87",
   "metadata": {},
   "source": [
    "## 2.5 字符串的查找"
   ]
  },
  {
   "cell_type": "code",
   "execution_count": 123,
   "id": "057ba821",
   "metadata": {},
   "outputs": [
    {
     "data": {
      "text/plain": [
       "'这个股票非常奇怪，虽然各类指标都不是太好，但是股票交个却是一路走高。'"
      ]
     },
     "execution_count": 123,
     "metadata": {},
     "output_type": "execute_result"
    }
   ],
   "source": [
    "string=\"这个股票非常奇怪，虽然各类指标都不是太好，但是股票交个却是一路走高。\"\n",
    "string"
   ]
  },
  {
   "cell_type": "code",
   "execution_count": 124,
   "id": "02325d72",
   "metadata": {},
   "outputs": [
    {
     "data": {
      "text/plain": [
       "6"
      ]
     },
     "execution_count": 124,
     "metadata": {},
     "output_type": "execute_result"
    }
   ],
   "source": [
    "string.find('奇怪')"
   ]
  },
  {
   "cell_type": "code",
   "execution_count": 125,
   "id": "4e557137",
   "metadata": {},
   "outputs": [
    {
     "data": {
      "text/plain": [
       "2"
      ]
     },
     "execution_count": 125,
     "metadata": {},
     "output_type": "execute_result"
    }
   ],
   "source": [
    "string.find('股票')"
   ]
  },
  {
   "cell_type": "code",
   "execution_count": 127,
   "id": "06ae93fb",
   "metadata": {},
   "outputs": [
    {
     "data": {
      "text/plain": [
       "-1"
      ]
     },
     "execution_count": 127,
     "metadata": {},
     "output_type": "execute_result"
    }
   ],
   "source": [
    "# 找不到的时候，返回-1\n",
    "string.find('上市')"
   ]
  },
  {
   "cell_type": "code",
   "execution_count": 128,
   "id": "a6383f77",
   "metadata": {},
   "outputs": [
    {
     "data": {
      "text/plain": [
       "23"
      ]
     },
     "execution_count": 128,
     "metadata": {},
     "output_type": "execute_result"
    }
   ],
   "source": [
    "# 从第6个字符开始找\n",
    "string.find('股票',6)"
   ]
  },
  {
   "cell_type": "code",
   "execution_count": 129,
   "id": "4223b277",
   "metadata": {},
   "outputs": [
    {
     "data": {
      "text/plain": [
       "4"
      ]
     },
     "execution_count": 129,
     "metadata": {},
     "output_type": "execute_result"
    }
   ],
   "source": [
    "string.find('非常',4)"
   ]
  },
  {
   "cell_type": "code",
   "execution_count": 130,
   "id": "398d41dc",
   "metadata": {},
   "outputs": [
    {
     "data": {
      "text/plain": [
       "2"
      ]
     },
     "execution_count": 130,
     "metadata": {},
     "output_type": "execute_result"
    }
   ],
   "source": [
    "string.index('股票')"
   ]
  },
  {
   "cell_type": "code",
   "execution_count": 131,
   "id": "7ec342f1",
   "metadata": {},
   "outputs": [
    {
     "ename": "ValueError",
     "evalue": "substring not found",
     "output_type": "error",
     "traceback": [
      "\u001b[0;31m---------------------------------------------------------------------------\u001b[0m",
      "\u001b[0;31mValueError\u001b[0m                                Traceback (most recent call last)",
      "\u001b[0;32m<ipython-input-131-62d7727e2806>\u001b[0m in \u001b[0;36m<module>\u001b[0;34m\u001b[0m\n\u001b[0;32m----> 1\u001b[0;31m \u001b[0mstring\u001b[0m\u001b[0;34m.\u001b[0m\u001b[0mindex\u001b[0m\u001b[0;34m(\u001b[0m\u001b[0;34m'上市'\u001b[0m\u001b[0;34m)\u001b[0m\u001b[0;34m\u001b[0m\u001b[0;34m\u001b[0m\u001b[0m\n\u001b[0m",
      "\u001b[0;31mValueError\u001b[0m: substring not found"
     ]
    }
   ],
   "source": [
    "# 使用index的时候，如果找不到会报错\n",
    "string.index('上市')"
   ]
  },
  {
   "cell_type": "code",
   "execution_count": 133,
   "id": "9933a610",
   "metadata": {},
   "outputs": [
    {
     "data": {
      "text/plain": [
       "23"
      ]
     },
     "execution_count": 133,
     "metadata": {},
     "output_type": "execute_result"
    }
   ],
   "source": [
    "# 逆向查找，但是下标依然从左到右计数\n",
    "string.rindex('股票')"
   ]
  },
  {
   "cell_type": "code",
   "execution_count": null,
   "id": "a16cc12e",
   "metadata": {},
   "outputs": [],
   "source": []
  },
  {
   "cell_type": "markdown",
   "id": "1f493be9",
   "metadata": {},
   "source": [
    "# 2.6 字符串的替换与删除"
   ]
  },
  {
   "cell_type": "code",
   "execution_count": 135,
   "id": "f5005b15",
   "metadata": {},
   "outputs": [
    {
     "data": {
      "text/plain": [
       "'这个股票非常奇怪，虽然各类指标都不是太好，但是股票交个却是一路走高。你确定要买这个股票吗？'"
      ]
     },
     "execution_count": 135,
     "metadata": {},
     "output_type": "execute_result"
    }
   ],
   "source": [
    "string=\"这个股票非常奇怪，虽然各类指标都不是太好，但是股票交个却是一路走高。你确定要买这个股票吗？\"\n",
    "string"
   ]
  },
  {
   "cell_type": "code",
   "execution_count": 137,
   "id": "1d998a48",
   "metadata": {},
   "outputs": [
    {
     "name": "stdout",
     "output_type": "stream",
     "text": [
      "替换后： 这个资产非常奇怪，虽然各类指标都不是太好，但是资产交个却是一路走高。你确定要买这个资产吗？\n",
      "替换前： 这个股票非常奇怪，虽然各类指标都不是太好，但是股票交个却是一路走高。你确定要买这个股票吗？\n"
     ]
    }
   ],
   "source": [
    "old=\"股票\"\n",
    "new=\"资产\"\n",
    "string.replace(old,new)\n",
    "print('替换后：',string.replace(old,new))\n",
    "print('替换前：',string)"
   ]
  },
  {
   "cell_type": "code",
   "execution_count": 139,
   "id": "5bf00b8b",
   "metadata": {},
   "outputs": [
    {
     "name": "stdout",
     "output_type": "stream",
     "text": [
      "替换后： 这个资产非常奇怪，虽然各类指标都不是太好，但是资产交个却是一路走高。你确定要买这个资产吗？\n",
      "替换前： 这个股票非常奇怪，虽然各类指标都不是太好，但是股票交个却是一路走高。你确定要买这个股票吗？\n"
     ]
    }
   ],
   "source": [
    "# string 中有三个股票，但是只想替换两个\n",
    "string.replace(old,new,2)\n",
    "print('替换后：',string.replace(old,new))\n",
    "print('替换前：',string)"
   ]
  },
  {
   "cell_type": "code",
   "execution_count": 140,
   "id": "19847062",
   "metadata": {},
   "outputs": [
    {
     "name": "stdout",
     "output_type": "stream",
     "text": [
      "替换后： 这个非常奇怪，虽然各类指标都不是太好，但是交个却是一路走高。你确定要买这个吗？\n",
      "替换前： 这个股票非常奇怪，虽然各类指标都不是太好，但是股票交个却是一路走高。你确定要买这个股票吗？\n"
     ]
    }
   ],
   "source": [
    "# 通过replace 实现删除的功能\n",
    "old=\"股票\"\n",
    "new=\"\"\n",
    "string.replace(old,new)\n",
    "print('替换后：',string.replace(old,new))\n",
    "print('替换前：',string)"
   ]
  },
  {
   "cell_type": "code",
   "execution_count": null,
   "id": "e8e0253d",
   "metadata": {},
   "outputs": [],
   "source": []
  },
  {
   "cell_type": "markdown",
   "id": "dc10a364",
   "metadata": {},
   "source": [
    "# 2.7 元组(tuple)"
   ]
  },
  {
   "cell_type": "code",
   "execution_count": 142,
   "id": "00345208",
   "metadata": {},
   "outputs": [
    {
     "data": {
      "text/plain": [
       "('stock', 'deposit', 'fund')"
      ]
     },
     "execution_count": 142,
     "metadata": {},
     "output_type": "execute_result"
    }
   ],
   "source": [
    "# 元组 通过括号实现\n",
    "a = ('stock','deposit','fund')\n",
    "a"
   ]
  },
  {
   "cell_type": "code",
   "execution_count": 143,
   "id": "af5348fa",
   "metadata": {},
   "outputs": [
    {
     "data": {
      "text/plain": [
       "tuple"
      ]
     },
     "execution_count": 143,
     "metadata": {},
     "output_type": "execute_result"
    }
   ],
   "source": [
    "type(a)"
   ]
  },
  {
   "cell_type": "code",
   "execution_count": 145,
   "id": "6ea39544",
   "metadata": {},
   "outputs": [
    {
     "data": {
      "text/plain": [
       "(1, 'stock', 3.55)"
      ]
     },
     "execution_count": 145,
     "metadata": {},
     "output_type": "execute_result"
    }
   ],
   "source": [
    "c=(1,'stock',3.55)\n",
    "c"
   ]
  },
  {
   "cell_type": "code",
   "execution_count": 146,
   "id": "13f939c6",
   "metadata": {},
   "outputs": [
    {
     "data": {
      "text/plain": [
       "tuple"
      ]
     },
     "execution_count": 146,
     "metadata": {},
     "output_type": "execute_result"
    }
   ],
   "source": [
    "type(c)"
   ]
  },
  {
   "cell_type": "markdown",
   "id": "3ad5cc5c",
   "metadata": {},
   "source": [
    "* 元组是不支持修改变动的"
   ]
  },
  {
   "cell_type": "code",
   "execution_count": 148,
   "id": "cf3ec7ec",
   "metadata": {},
   "outputs": [
    {
     "data": {
      "text/plain": [
       "tuple"
      ]
     },
     "execution_count": 148,
     "metadata": {},
     "output_type": "execute_result"
    }
   ],
   "source": [
    "a=()\n",
    "type(a)"
   ]
  },
  {
   "cell_type": "code",
   "execution_count": 149,
   "id": "2ba14f63",
   "metadata": {},
   "outputs": [
    {
     "data": {
      "text/plain": [
       "33"
      ]
     },
     "execution_count": 149,
     "metadata": {},
     "output_type": "execute_result"
    }
   ],
   "source": [
    "a=(33)\n",
    "a"
   ]
  },
  {
   "cell_type": "code",
   "execution_count": 151,
   "id": "f78b3a90",
   "metadata": {},
   "outputs": [
    {
     "data": {
      "text/plain": [
       "int"
      ]
     },
     "execution_count": 151,
     "metadata": {},
     "output_type": "execute_result"
    }
   ],
   "source": [
    "type(a)"
   ]
  },
  {
   "cell_type": "code",
   "execution_count": 152,
   "id": "a4451761",
   "metadata": {},
   "outputs": [
    {
     "data": {
      "text/plain": [
       "(33,)"
      ]
     },
     "execution_count": 152,
     "metadata": {},
     "output_type": "execute_result"
    }
   ],
   "source": [
    "# 定义一个单元素的元组(括号中单个取值后面添加一个逗号)\n",
    "b=(33,)\n",
    "b"
   ]
  },
  {
   "cell_type": "code",
   "execution_count": 153,
   "id": "dc3cf18d",
   "metadata": {},
   "outputs": [
    {
     "data": {
      "text/plain": [
       "tuple"
      ]
     },
     "execution_count": 153,
     "metadata": {},
     "output_type": "execute_result"
    }
   ],
   "source": [
    "type(b)"
   ]
  },
  {
   "cell_type": "code",
   "execution_count": 155,
   "id": "5b14d74e",
   "metadata": {},
   "outputs": [
    {
     "data": {
      "text/plain": [
       "('stock', 'deposit', 'fund', 'cash')"
      ]
     },
     "execution_count": 155,
     "metadata": {},
     "output_type": "execute_result"
    }
   ],
   "source": [
    "a=('stock','deposit','fund','cash')\n",
    "a"
   ]
  },
  {
   "cell_type": "code",
   "execution_count": 156,
   "id": "fc199bfe",
   "metadata": {},
   "outputs": [
    {
     "ename": "TypeError",
     "evalue": "'tuple' object is not callable",
     "output_type": "error",
     "traceback": [
      "\u001b[0;31m---------------------------------------------------------------------------\u001b[0m",
      "\u001b[0;31mTypeError\u001b[0m                                 Traceback (most recent call last)",
      "\u001b[0;32m<ipython-input-156-89daab46fd95>\u001b[0m in \u001b[0;36m<module>\u001b[0;34m\u001b[0m\n\u001b[0;32m----> 1\u001b[0;31m \u001b[0ma\u001b[0m\u001b[0;34m(\u001b[0m\u001b[0;36m0\u001b[0m\u001b[0;34m)\u001b[0m\u001b[0;34m\u001b[0m\u001b[0;34m\u001b[0m\u001b[0m\n\u001b[0m",
      "\u001b[0;31mTypeError\u001b[0m: 'tuple' object is not callable"
     ]
    }
   ],
   "source": [
    "a(0)"
   ]
  },
  {
   "cell_type": "code",
   "execution_count": 157,
   "id": "b4cfdb2c",
   "metadata": {},
   "outputs": [
    {
     "data": {
      "text/plain": [
       "'stock'"
      ]
     },
     "execution_count": 157,
     "metadata": {},
     "output_type": "execute_result"
    }
   ],
   "source": [
    "a[0]"
   ]
  },
  {
   "cell_type": "code",
   "execution_count": 158,
   "id": "d622f521",
   "metadata": {},
   "outputs": [
    {
     "data": {
      "text/plain": [
       "('fund', 'cash')"
      ]
     },
     "execution_count": 158,
     "metadata": {},
     "output_type": "execute_result"
    }
   ],
   "source": [
    "a[2:]"
   ]
  },
  {
   "cell_type": "code",
   "execution_count": 159,
   "id": "be742481",
   "metadata": {},
   "outputs": [
    {
     "data": {
      "text/plain": [
       "('deposit', 'fund', 'cash')"
      ]
     },
     "execution_count": 159,
     "metadata": {},
     "output_type": "execute_result"
    }
   ],
   "source": [
    "#从倒数第三个开始往后找\n",
    "a[-3:]"
   ]
  },
  {
   "cell_type": "code",
   "execution_count": 161,
   "id": "ce554942",
   "metadata": {},
   "outputs": [
    {
     "ename": "TypeError",
     "evalue": "'tuple' object does not support item assignment",
     "output_type": "error",
     "traceback": [
      "\u001b[0;31m---------------------------------------------------------------------------\u001b[0m",
      "\u001b[0;31mTypeError\u001b[0m                                 Traceback (most recent call last)",
      "\u001b[0;32m<ipython-input-161-55c9815cec9a>\u001b[0m in \u001b[0;36m<module>\u001b[0;34m\u001b[0m\n\u001b[1;32m      1\u001b[0m \u001b[0;31m# 元组中的数据不可修改，所以下面会报错\u001b[0m\u001b[0;34m\u001b[0m\u001b[0;34m\u001b[0m\u001b[0;34m\u001b[0m\u001b[0m\n\u001b[0;32m----> 2\u001b[0;31m \u001b[0ma\u001b[0m\u001b[0;34m[\u001b[0m\u001b[0;36m0\u001b[0m\u001b[0;34m]\u001b[0m\u001b[0;34m=\u001b[0m\u001b[0;34m'change'\u001b[0m\u001b[0;34m\u001b[0m\u001b[0;34m\u001b[0m\u001b[0m\n\u001b[0m",
      "\u001b[0;31mTypeError\u001b[0m: 'tuple' object does not support item assignment"
     ]
    }
   ],
   "source": [
    "# 元组中的数据不可修改，所以下面会报错\n",
    "a[0]='change'"
   ]
  },
  {
   "cell_type": "markdown",
   "id": "19b0d371",
   "metadata": {},
   "source": [
    "* 元组的连接"
   ]
  },
  {
   "cell_type": "code",
   "execution_count": 165,
   "id": "5096235e",
   "metadata": {},
   "outputs": [
    {
     "data": {
      "text/plain": [
       "('stock', 'deposit', 'fund', 1, 2, 3)"
      ]
     },
     "execution_count": 165,
     "metadata": {},
     "output_type": "execute_result"
    }
   ],
   "source": [
    "a = ('stock','deposit','fund')\n",
    "b = (1,2,3)\n",
    "c = a + b\n",
    "c"
   ]
  },
  {
   "cell_type": "code",
   "execution_count": 167,
   "id": "359c0edd",
   "metadata": {},
   "outputs": [
    {
     "data": {
      "text/plain": [
       "('stock', 'deposit', 'fund', 1, 2, 3, 'stock', 'deposit', 'fund', 1, 2, 3)"
      ]
     },
     "execution_count": 167,
     "metadata": {},
     "output_type": "execute_result"
    }
   ],
   "source": [
    "# 元组中数据重复n 次\n",
    "c*2"
   ]
  },
  {
   "cell_type": "code",
   "execution_count": 169,
   "id": "a6c5be50",
   "metadata": {},
   "outputs": [
    {
     "data": {
      "text/plain": [
       "12"
      ]
     },
     "execution_count": 169,
     "metadata": {},
     "output_type": "execute_result"
    }
   ],
   "source": [
    "# 计算元组中元素的个数\n",
    "len(c*2)"
   ]
  },
  {
   "cell_type": "code",
   "execution_count": 171,
   "id": "62324157",
   "metadata": {},
   "outputs": [
    {
     "data": {
      "text/plain": [
       "True"
      ]
     },
     "execution_count": 171,
     "metadata": {},
     "output_type": "execute_result"
    }
   ],
   "source": [
    "# 查找某个值在元组中是否存在？\n",
    "3 in c"
   ]
  },
  {
   "cell_type": "code",
   "execution_count": 173,
   "id": "6af20460",
   "metadata": {
    "collapsed": true
   },
   "outputs": [
    {
     "data": {
      "text/plain": [
       "5"
      ]
     },
     "execution_count": 173,
     "metadata": {},
     "output_type": "execute_result"
    }
   ],
   "source": [
    "# 查找3在元组中的位置，只返回查找的第一个的位置\n",
    "c.index(3)"
   ]
  },
  {
   "cell_type": "code",
   "execution_count": 175,
   "id": "0835ae81",
   "metadata": {
    "scrolled": true
   },
   "outputs": [
    {
     "data": {
      "text/plain": [
       "5"
      ]
     },
     "execution_count": 175,
     "metadata": {},
     "output_type": "execute_result"
    }
   ],
   "source": [
    "d=c*2\n",
    "d.index(3)"
   ]
  },
  {
   "cell_type": "code",
   "execution_count": 176,
   "id": "f70ecfb6",
   "metadata": {},
   "outputs": [
    {
     "data": {
      "text/plain": [
       "11"
      ]
     },
     "execution_count": 176,
     "metadata": {},
     "output_type": "execute_result"
    }
   ],
   "source": [
    "# 从第6个位置开始查找\n",
    "d.index(3,6)"
   ]
  },
  {
   "cell_type": "code",
   "execution_count": 181,
   "id": "6a95a6da",
   "metadata": {},
   "outputs": [
    {
     "name": "stdout",
     "output_type": "stream",
     "text": [
      "a中原有的数据： ('stock', 'deposit', 'fund', 1, 2, 3)\n",
      "变相删除后，b中的数据 ('stock', 'deposit', 1, 2, 3)\n"
     ]
    }
   ],
   "source": [
    "# 变相删除元素中的某个值\n",
    "a = ('stock','deposit','fund',1,2,3)\n",
    "print('a中原有的数据：',a)\n",
    "b = a[:2]+a[3:]\n",
    "print('变相删除后，b中的数据',b)"
   ]
  },
  {
   "cell_type": "code",
   "execution_count": null,
   "id": "17113a65",
   "metadata": {},
   "outputs": [],
   "source": []
  },
  {
   "cell_type": "markdown",
   "id": "7d390c43",
   "metadata": {},
   "source": [
    "# 2.8 列表"
   ]
  },
  {
   "cell_type": "markdown",
   "id": "e605c638",
   "metadata": {},
   "source": [
    "列表的特点\n",
    "* 方括号\n",
    "* 可更新"
   ]
  },
  {
   "cell_type": "code",
   "execution_count": 185,
   "id": "088c15f4",
   "metadata": {},
   "outputs": [
    {
     "data": {
      "text/plain": [
       "['stock', 'deposit', 'fund', 1, 2, 3]"
      ]
     },
     "execution_count": 185,
     "metadata": {},
     "output_type": "execute_result"
    }
   ],
   "source": [
    "a=['stock','deposit','fund',1,2,3]\n",
    "a"
   ]
  },
  {
   "cell_type": "code",
   "execution_count": 186,
   "id": "13bab31f",
   "metadata": {},
   "outputs": [
    {
     "data": {
      "text/plain": [
       "list"
      ]
     },
     "execution_count": 186,
     "metadata": {},
     "output_type": "execute_result"
    }
   ],
   "source": [
    "type(a)"
   ]
  },
  {
   "cell_type": "code",
   "execution_count": 188,
   "id": "e0bf3831",
   "metadata": {},
   "outputs": [
    {
     "data": {
      "text/plain": [
       "['stock', 'deposit']"
      ]
     },
     "execution_count": 188,
     "metadata": {},
     "output_type": "execute_result"
    }
   ],
   "source": [
    "# 获取列表的前两个元素\n",
    "a[:2]"
   ]
  },
  {
   "cell_type": "code",
   "execution_count": 189,
   "id": "d1207234",
   "metadata": {},
   "outputs": [
    {
     "data": {
      "text/plain": [
       "'fund'"
      ]
     },
     "execution_count": 189,
     "metadata": {},
     "output_type": "execute_result"
    }
   ],
   "source": [
    "a[2]"
   ]
  },
  {
   "cell_type": "code",
   "execution_count": 190,
   "id": "5bb81019",
   "metadata": {},
   "outputs": [
    {
     "data": {
      "text/plain": [
       "[1, 2, 3]"
      ]
     },
     "execution_count": 190,
     "metadata": {},
     "output_type": "execute_result"
    }
   ],
   "source": [
    "a[3:]"
   ]
  },
  {
   "cell_type": "code",
   "execution_count": 191,
   "id": "f5651a0c",
   "metadata": {},
   "outputs": [
    {
     "data": {
      "text/plain": [
       "str"
      ]
     },
     "execution_count": 191,
     "metadata": {},
     "output_type": "execute_result"
    }
   ],
   "source": [
    "type(a[2])"
   ]
  },
  {
   "cell_type": "code",
   "execution_count": 192,
   "id": "f4f85f2a",
   "metadata": {},
   "outputs": [
    {
     "data": {
      "text/plain": [
       "list"
      ]
     },
     "execution_count": 192,
     "metadata": {},
     "output_type": "execute_result"
    }
   ],
   "source": [
    "type(a[:3])"
   ]
  },
  {
   "cell_type": "code",
   "execution_count": 193,
   "id": "99c42a74",
   "metadata": {},
   "outputs": [
    {
     "data": {
      "text/plain": [
       "['stock', 'deposit', 'fund', 1, 2, 3]"
      ]
     },
     "execution_count": 193,
     "metadata": {},
     "output_type": "execute_result"
    }
   ],
   "source": [
    "a=['stock','deposit','fund']\n",
    "b=[1,2,3]\n",
    "# 两个list 连接\n",
    "a + b "
   ]
  },
  {
   "cell_type": "code",
   "execution_count": 194,
   "id": "07e93847",
   "metadata": {},
   "outputs": [
    {
     "data": {
      "text/plain": [
       "[1, 2, 3, 1, 2, 3]"
      ]
     },
     "execution_count": 194,
     "metadata": {},
     "output_type": "execute_result"
    }
   ],
   "source": [
    "# 列表重复n次\n",
    "b*2"
   ]
  },
  {
   "cell_type": "code",
   "execution_count": 196,
   "id": "dda0acd1",
   "metadata": {},
   "outputs": [
    {
     "data": {
      "text/plain": [
       "['stock', 'deposit', 'fund', 1, 2, 3]"
      ]
     },
     "execution_count": 196,
     "metadata": {},
     "output_type": "execute_result"
    }
   ],
   "source": [
    "# 通过extend 进行连接\n",
    "a = ['stock','deposit','fund']\n",
    "b = [1, 2, 3]\n",
    "a.extend(b)\n",
    "a"
   ]
  },
  {
   "cell_type": "code",
   "execution_count": 198,
   "id": "2a2c8cc5",
   "metadata": {},
   "outputs": [
    {
     "data": {
      "text/plain": [
       "['stock', 'deposit', 'fund', 1, 2, 3, 'bond', 'bond']"
      ]
     },
     "execution_count": 198,
     "metadata": {},
     "output_type": "execute_result"
    }
   ],
   "source": [
    "a.append('bond')\n",
    "a"
   ]
  },
  {
   "cell_type": "code",
   "execution_count": 200,
   "id": "cb47346c",
   "metadata": {},
   "outputs": [
    {
     "name": "stdout",
     "output_type": "stream",
     "text": [
      "before del： ['stock', 'fund', 1, 2, 3, 'bond', 'bond']\n",
      "after del: ['stock', 1, 2, 3, 'bond', 'bond']\n"
     ]
    }
   ],
   "source": [
    "# 通过del 函数删除集合中指定位置的元素\n",
    "print('before del：', a)\n",
    "del a[1]\n",
    "print('after del:',a)\n"
   ]
  },
  {
   "cell_type": "code",
   "execution_count": 204,
   "id": "8325ae1c",
   "metadata": {},
   "outputs": [
    {
     "name": "stdout",
     "output_type": "stream",
     "text": [
      "before remove: ['stock', 'deposit', 'fund']\n",
      "after remove: ['deposit', 'fund']\n"
     ]
    }
   ],
   "source": [
    "# 通过remove 删除\n",
    "a = ['stock','deposit','fund']\n",
    "print('before remove:', a)\n",
    "a.remove('stock')\n",
    "print('after remove:',a)\n",
    "# 当要删除的内容不存在的时候，会报错\n",
    "# a.remove('aaaaa')\n",
    "# print('after remove:',a)"
   ]
  },
  {
   "cell_type": "code",
   "execution_count": 206,
   "id": "bb6a82ab",
   "metadata": {},
   "outputs": [
    {
     "name": "stdout",
     "output_type": "stream",
     "text": [
      "before replace: ['deposit', 'fund']\n",
      "after replace ['aaa', 'fund']\n"
     ]
    }
   ],
   "source": [
    "# 集合中的替换\n",
    "print('before replace:',a)\n",
    "a[0] = 'aaa'\n",
    "print('after replace',a)"
   ]
  },
  {
   "cell_type": "code",
   "execution_count": 211,
   "id": "b64c83fe",
   "metadata": {},
   "outputs": [
    {
     "name": "stdout",
     "output_type": "stream",
     "text": [
      "a =  ['aaa', 'fund']\n"
     ]
    },
    {
     "data": {
      "text/plain": [
       "5"
      ]
     },
     "execution_count": 211,
     "metadata": {},
     "output_type": "execute_result"
    }
   ],
   "source": [
    "# 统计\n",
    "print('a = ',a)\n",
    "c=a*5\n",
    "# 统计集合c 中‘fund’ 出现的次数\n",
    "c.count('fund')"
   ]
  },
  {
   "cell_type": "code",
   "execution_count": 219,
   "id": "61fdd864",
   "metadata": {},
   "outputs": [
    {
     "name": "stdout",
     "output_type": "stream",
     "text": [
      "['stock', 'lpf', 'deposit', 'fund']\n"
     ]
    }
   ],
   "source": [
    "# 插入一个值\n",
    "a = ['stock','deposit','fund']\n",
    "a.insert(1,'lpf')\n",
    "print(a)"
   ]
  },
  {
   "cell_type": "code",
   "execution_count": 216,
   "id": "7bc23b94",
   "metadata": {},
   "outputs": [
    {
     "name": "stdout",
     "output_type": "stream",
     "text": [
      "before sort: ['stock', 'deposit', 'fund']\n",
      "after sort: ['deposit', 'fund', 'stock']\n"
     ]
    }
   ],
   "source": [
    "# 排序\n",
    "a = ['stock','deposit','fund']\n",
    "print('before sort:',a)\n",
    "a.sort()\n",
    "print('after sort:',a)"
   ]
  },
  {
   "cell_type": "code",
   "execution_count": 222,
   "id": "4a50f862",
   "metadata": {},
   "outputs": [
    {
     "name": "stdout",
     "output_type": "stream",
     "text": [
      "before reverse: ['stock', 'lpf', 'deposit', 'fund']\n"
     ]
    },
    {
     "data": {
      "text/plain": [
       "['fund', 'deposit', 'lpf', 'stock']"
      ]
     },
     "execution_count": 222,
     "metadata": {},
     "output_type": "execute_result"
    }
   ],
   "source": [
    "# 将元素反序\n",
    "print('before reverse:',a)\n",
    "a.reverse()\n",
    "a"
   ]
  },
  {
   "cell_type": "code",
   "execution_count": null,
   "id": "aaaffc6b",
   "metadata": {},
   "outputs": [],
   "source": []
  },
  {
   "cell_type": "code",
   "execution_count": null,
   "id": "93b12e72",
   "metadata": {},
   "outputs": [],
   "source": []
  },
  {
   "cell_type": "markdown",
   "id": "84d369bf",
   "metadata": {},
   "source": [
    "# 2.9字典\n",
    "* 字典使用的是大括号\n",
    "* 字典既有key，又有value"
   ]
  },
  {
   "cell_type": "code",
   "execution_count": 230,
   "id": "47fd8e57",
   "metadata": {},
   "outputs": [
    {
     "data": {
      "text/plain": [
       "{'张三': 500, '李四': 300, '王五': 200, '王麻子': 100}"
      ]
     },
     "execution_count": 230,
     "metadata": {},
     "output_type": "execute_result"
    }
   ],
   "source": [
    "deposit={\"张三\":500,\"李四\":300,\"王五\":200,\"王麻子\":100}\n",
    "deposit"
   ]
  },
  {
   "cell_type": "code",
   "execution_count": 229,
   "id": "a9bba394",
   "metadata": {
    "scrolled": true
   },
   "outputs": [
    {
     "data": {
      "text/plain": [
       "dict"
      ]
     },
     "execution_count": 229,
     "metadata": {},
     "output_type": "execute_result"
    }
   ],
   "source": [
    "type(deposit)"
   ]
  },
  {
   "cell_type": "code",
   "execution_count": 232,
   "id": "b23fe14a",
   "metadata": {},
   "outputs": [],
   "source": [
    "deposit={(\"张\",\"三\"):500,\"李四\":300,\"王五\":200,\"王麻子\":100}"
   ]
  },
  {
   "cell_type": "code",
   "execution_count": null,
   "id": "0a0ad696",
   "metadata": {},
   "outputs": [],
   "source": [
    "# 字典中的key 不能是 数组\n",
    "deposit={[\"张\",\"三\"]:500,\"李四\":300,\"王五\":200,\"王麻子\":100}"
   ]
  },
  {
   "cell_type": "code",
   "execution_count": 235,
   "id": "91db21c5",
   "metadata": {},
   "outputs": [
    {
     "data": {
      "text/plain": [
       "{'name': 'BOB',\n",
       " 'income': 300,\n",
       " 'age': 34,\n",
       " 'comp': 'XXX',\n",
       " 'cost': [200, 300, 40]}"
      ]
     },
     "execution_count": 235,
     "metadata": {},
     "output_type": "execute_result"
    }
   ],
   "source": [
    "data = {'name':'BOB','income':300,'age':34,'comp':'XXX','cost':[200,300,40]}\n",
    "data"
   ]
  },
  {
   "cell_type": "code",
   "execution_count": 236,
   "id": "87a1d9b3",
   "metadata": {},
   "outputs": [
    {
     "data": {
      "text/plain": [
       "'BOB'"
      ]
     },
     "execution_count": 236,
     "metadata": {},
     "output_type": "execute_result"
    }
   ],
   "source": [
    "data['name']"
   ]
  },
  {
   "cell_type": "code",
   "execution_count": 237,
   "id": "df541e84",
   "metadata": {},
   "outputs": [
    {
     "data": {
      "text/plain": [
       "34"
      ]
     },
     "execution_count": 237,
     "metadata": {},
     "output_type": "execute_result"
    }
   ],
   "source": [
    "data['age']"
   ]
  },
  {
   "cell_type": "code",
   "execution_count": 238,
   "id": "afbf2ef6",
   "metadata": {},
   "outputs": [
    {
     "data": {
      "text/plain": [
       "[200, 300, 40]"
      ]
     },
     "execution_count": 238,
     "metadata": {},
     "output_type": "execute_result"
    }
   ],
   "source": [
    "data['cost']"
   ]
  },
  {
   "cell_type": "code",
   "execution_count": 239,
   "id": "f532ad4d",
   "metadata": {},
   "outputs": [
    {
     "data": {
      "text/plain": [
       "300"
      ]
     },
     "execution_count": 239,
     "metadata": {},
     "output_type": "execute_result"
    }
   ],
   "source": [
    "data['cost'][1]"
   ]
  },
  {
   "cell_type": "code",
   "execution_count": 240,
   "id": "f1fb243a",
   "metadata": {},
   "outputs": [
    {
     "data": {
      "text/plain": [
       "list"
      ]
     },
     "execution_count": 240,
     "metadata": {},
     "output_type": "execute_result"
    }
   ],
   "source": [
    "type(data['cost'])"
   ]
  },
  {
   "cell_type": "code",
   "execution_count": 241,
   "id": "d51f30a8",
   "metadata": {},
   "outputs": [
    {
     "data": {
      "text/plain": [
       "dict_keys(['name', 'income', 'age', 'comp', 'cost'])"
      ]
     },
     "execution_count": 241,
     "metadata": {},
     "output_type": "execute_result"
    }
   ],
   "source": [
    "data.keys()"
   ]
  },
  {
   "cell_type": "code",
   "execution_count": 242,
   "id": "36d91d3d",
   "metadata": {},
   "outputs": [
    {
     "data": {
      "text/plain": [
       "dict_items([('name', 'BOB'), ('income', 300), ('age', 34), ('comp', 'XXX'), ('cost', [200, 300, 40])])"
      ]
     },
     "execution_count": 242,
     "metadata": {},
     "output_type": "execute_result"
    }
   ],
   "source": [
    "data.items()"
   ]
  },
  {
   "cell_type": "code",
   "execution_count": 243,
   "id": "99fad617",
   "metadata": {},
   "outputs": [
    {
     "data": {
      "text/plain": [
       "dict_values(['BOB', 300, 34, 'XXX', [200, 300, 40]])"
      ]
     },
     "execution_count": 243,
     "metadata": {},
     "output_type": "execute_result"
    }
   ],
   "source": [
    "data.values()"
   ]
  },
  {
   "cell_type": "code",
   "execution_count": 248,
   "id": "2fc16ee0",
   "metadata": {},
   "outputs": [
    {
     "data": {
      "text/plain": [
       "{'name': 'cart',\n",
       " 'income': 300,\n",
       " 'age': 34,\n",
       " 'comp': 'XXX',\n",
       " 'cost': [200, 300, 40],\n",
       " 'aaa': 'bbb'}"
      ]
     },
     "execution_count": 248,
     "metadata": {},
     "output_type": "execute_result"
    }
   ],
   "source": [
    "#字典的更新\n",
    "data = {'name':'BOB','income':300,'age':34,'comp':'XXX','cost':[200,300,40]}\n",
    "data1={'name':'cart'}\n",
    "data.update(data1)\n",
    "#data\n",
    "data2={\"aaa\":\"bbb\"}\n",
    "#更新的key 不存在的时候不会报错\n",
    "data.update(data2)\n",
    "data"
   ]
  },
  {
   "cell_type": "code",
   "execution_count": 250,
   "id": "9f33eac3",
   "metadata": {},
   "outputs": [
    {
     "data": {
      "text/plain": [
       "{'city1', 'city2', 'city3'}"
      ]
     },
     "execution_count": 250,
     "metadata": {},
     "output_type": "execute_result"
    }
   ],
   "source": [
    "keys={'city1','city2','city3'}\n",
    "keys"
   ]
  },
  {
   "cell_type": "code",
   "execution_count": 254,
   "id": "9a63dbb6",
   "metadata": {},
   "outputs": [
    {
     "data": {
      "text/plain": [
       "{'city2': 13, 'city1': 13, 'city3': 13}"
      ]
     },
     "execution_count": 254,
     "metadata": {},
     "output_type": "execute_result"
    }
   ],
   "source": [
    "# 创建字典,  为所有的key 指定相同的value值\n",
    "data = data.fromkeys(keys,13)\n",
    "data"
   ]
  },
  {
   "cell_type": "code",
   "execution_count": 256,
   "id": "f61590e6",
   "metadata": {},
   "outputs": [
    {
     "name": "stdout",
     "output_type": "stream",
     "text": [
      "['age', 'comp', 'cost', 'income', 'name']\n"
     ]
    }
   ],
   "source": [
    "# 对字典中的key进行排序\n",
    "data = {'name':'BOB','income':300,'age':34,'comp':'XXX','cost':[200,300,40]}\n",
    "print(sorted(data.keys()))"
   ]
  },
  {
   "cell_type": "code",
   "execution_count": 257,
   "id": "a4b2d7a2",
   "metadata": {},
   "outputs": [
    {
     "name": "stdout",
     "output_type": "stream",
     "text": [
      "before clear: {'name': 'BOB', 'income': 300, 'age': 34, 'comp': 'XXX', 'cost': [200, 300, 40]}\n",
      "after clear: {}\n"
     ]
    }
   ],
   "source": [
    "# 清空key \n",
    "data = {'name':'BOB','income':300,'age':34,'comp':'XXX','cost':[200,300,40]}\n",
    "print('before clear:',data)\n",
    "data.clear()\n",
    "print('after clear:',data)"
   ]
  },
  {
   "cell_type": "code",
   "execution_count": 258,
   "id": "85ebc66d",
   "metadata": {},
   "outputs": [
    {
     "data": {
      "text/plain": [
       "{'name': 'BOB', 'income': 300, 'age': 34, 'comp': 'XXX'}"
      ]
     },
     "execution_count": 258,
     "metadata": {},
     "output_type": "execute_result"
    }
   ],
   "source": [
    "# 从尾部开始删除key以及value \n",
    "data = {'name':'BOB','income':300,'age':34,'comp':'XXX','cost':[200,300,40]}\n",
    "data.popitem()\n",
    "data"
   ]
  },
  {
   "cell_type": "code",
   "execution_count": 260,
   "id": "77edf7d5",
   "metadata": {},
   "outputs": [
    {
     "data": {
      "text/plain": [
       "{'name': 'BOB', 'income': 300, 'comp': 'XXX', 'cost': [200, 300, 40]}"
      ]
     },
     "execution_count": 260,
     "metadata": {},
     "output_type": "execute_result"
    }
   ],
   "source": [
    "# 删除key\n",
    "data = {'name':'BOB','income':300,'age':34,'comp':'XXX','cost':[200,300,40]}\n",
    "# data.pop(key) 返回key 对于的value \n",
    "data.pop('age')\n",
    "data"
   ]
  },
  {
   "cell_type": "code",
   "execution_count": 263,
   "id": "ea1de255",
   "metadata": {},
   "outputs": [
    {
     "ename": "NameError",
     "evalue": "name 'data' is not defined",
     "output_type": "error",
     "traceback": [
      "\u001b[0;31m---------------------------------------------------------------------------\u001b[0m",
      "\u001b[0;31mNameError\u001b[0m                                 Traceback (most recent call last)",
      "\u001b[0;32m<ipython-input-263-6a0c1c216ea8>\u001b[0m in \u001b[0;36m<module>\u001b[0;34m\u001b[0m\n\u001b[1;32m      2\u001b[0m \u001b[0mdata\u001b[0m \u001b[0;34m=\u001b[0m \u001b[0;34m{\u001b[0m\u001b[0;34m'name'\u001b[0m\u001b[0;34m:\u001b[0m\u001b[0;34m'BOB'\u001b[0m\u001b[0;34m,\u001b[0m\u001b[0;34m'income'\u001b[0m\u001b[0;34m:\u001b[0m\u001b[0;36m300\u001b[0m\u001b[0;34m,\u001b[0m\u001b[0;34m'age'\u001b[0m\u001b[0;34m:\u001b[0m\u001b[0;36m34\u001b[0m\u001b[0;34m,\u001b[0m\u001b[0;34m'comp'\u001b[0m\u001b[0;34m:\u001b[0m\u001b[0;34m'XXX'\u001b[0m\u001b[0;34m,\u001b[0m\u001b[0;34m'cost'\u001b[0m\u001b[0;34m:\u001b[0m\u001b[0;34m[\u001b[0m\u001b[0;36m200\u001b[0m\u001b[0;34m,\u001b[0m\u001b[0;36m300\u001b[0m\u001b[0;34m,\u001b[0m\u001b[0;36m40\u001b[0m\u001b[0;34m]\u001b[0m\u001b[0;34m}\u001b[0m\u001b[0;34m\u001b[0m\u001b[0;34m\u001b[0m\u001b[0m\n\u001b[1;32m      3\u001b[0m \u001b[0;32mdel\u001b[0m \u001b[0mdata\u001b[0m\u001b[0;34m\u001b[0m\u001b[0;34m\u001b[0m\u001b[0m\n\u001b[0;32m----> 4\u001b[0;31m \u001b[0mdata\u001b[0m\u001b[0;34m\u001b[0m\u001b[0;34m\u001b[0m\u001b[0m\n\u001b[0m",
      "\u001b[0;31mNameError\u001b[0m: name 'data' is not defined"
     ]
    }
   ],
   "source": [
    "# 删除字典， 注意这里不是清空key\n",
    "data = {'name':'BOB','income':300,'age':34,'comp':'XXX','cost':[200,300,40]}\n",
    "del data\n",
    "# 这里删除字典之后，字典就不存在了， 所以下面会报错\n",
    "#data"
   ]
  },
  {
   "cell_type": "code",
   "execution_count": null,
   "id": "8821a11c",
   "metadata": {},
   "outputs": [],
   "source": []
  }
 ],
 "metadata": {
  "kernelspec": {
   "display_name": "Python 3",
   "language": "python",
   "name": "python3"
  },
  "language_info": {
   "codemirror_mode": {
    "name": "ipython",
    "version": 3
   },
   "file_extension": ".py",
   "mimetype": "text/x-python",
   "name": "python",
   "nbconvert_exporter": "python",
   "pygments_lexer": "ipython3",
   "version": "3.8.8"
  }
 },
 "nbformat": 4,
 "nbformat_minor": 5
}
